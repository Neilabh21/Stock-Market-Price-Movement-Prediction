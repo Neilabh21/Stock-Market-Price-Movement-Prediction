{
  "nbformat": 4,
  "nbformat_minor": 0,
  "metadata": {
    "colab": {
      "name": "Sentiment Analysis.ipynb",
      "provenance": [],
      "collapsed_sections": []
    },
    "kernelspec": {
      "name": "python3",
      "display_name": "Python 3"
    },
    "language_info": {
      "name": "python"
    },
    "accelerator": "GPU"
  },
  "cells": [
    {
      "cell_type": "markdown",
      "metadata": {
        "id": "cI_2WJf390_R"
      },
      "source": [
        "### Data Scraping"
      ]
    },
    {
      "cell_type": "code",
      "metadata": {
        "id": "jyuCmY1x93aD"
      },
      "source": [
        "import json\n",
        "import numpy as np\n",
        "import requests\n",
        "from bs4 import BeautifulSoup\n",
        "import pandas as pd\n",
        "import random\n",
        "from textblob import TextBlob\n",
        "import nltk\n",
        "nltk.download('punkt')\n",
        "nltk.download('averaged_perceptron_tagger')\n",
        "from nltk.corpus import stopwords\n",
        "nltk.download('stopwords')\n",
        "\n",
        "titles = []\n",
        "for i in range(498):\n",
        "  temp_list = []\n",
        "  try:\n",
        "    list_1 = requests.get(\"https://api.pushshift.io/reddit/search/submission/?subreddit=finance&after={}d&before={}d&fields=title&sort=desc&sort_type=score&size=50\".format(i+1, i)).json()['data']\n",
        "  except:\n",
        "    continue\n",
        "  for keys in list_1:\n",
        "    temp_list.append(keys['title'])\n",
        "  text = ' '.join(temp_list)\n",
        "  contentBlob = TextBlob(text).lower()\n",
        "  n_tokens_content = len(contentBlob.words)\n",
        "  n_unique_tokens = len(list(set(contentBlob.words)))\n",
        "  content_sentiment_polarity = contentBlob.sentiment.polarity\n",
        "  content_subjectivity = contentBlob.sentiment.subjectivity\n",
        "  titles.append([498 - i, text, content_sentiment_polarity, content_subjectivity])\n",
        "  print(i)\n",
        "\n",
        "df = pd.DataFrame(titles, columns = [\"Date\", \"Text\", \"Polarity\", \"Subjectivity\"])\n",
        "\n",
        "df\n",
        "\n",
        "df.to_csv(\"News.csv\")\n"
      ],
      "execution_count": null,
      "outputs": []
    },
    {
      "cell_type": "markdown",
      "metadata": {
        "id": "LIw6Gvky-D8q"
      },
      "source": [
        "### Data Preprocessing (RF)"
      ]
    },
    {
      "cell_type": "code",
      "metadata": {
        "colab": {
          "base_uri": "https://localhost:8080/"
        },
        "id": "njvbEqtUpAz5",
        "outputId": "910af6a7-1046-43a0-9fd2-22e1dfa8eba7"
      },
      "source": [
        "from google.colab import drive\n",
        "import os\n",
        "drive.mount('/content/drive',force_remount=True)\n",
        "cur_dir = \"/content/drive/MyDrive/Academics/CS419 project/data/\"\n",
        "# change working directory to dataset folder\n",
        "os.chdir(cur_dir)"
      ],
      "execution_count": 4,
      "outputs": [
        {
          "output_type": "stream",
          "text": [
            "Mounted at /content/drive\n"
          ],
          "name": "stdout"
        }
      ]
    },
    {
      "cell_type": "markdown",
      "metadata": {
        "id": "QYEkxUQl_wyI"
      },
      "source": [
        "Run from here\n"
      ]
    },
    {
      "cell_type": "code",
      "metadata": {
        "id": "dwq6WKpfGOgL"
      },
      "source": [
        "import numpy as np\n",
        "import pandas as pd\n",
        "import matplotlib\n",
        "import scipy\n",
        "import re\n",
        "from sklearn.impute import SimpleImputer"
      ],
      "execution_count": 1,
      "outputs": []
    },
    {
      "cell_type": "code",
      "metadata": {
        "id": "IgZIoIAAW9kE"
      },
      "source": [
        "import nltk"
      ],
      "execution_count": 2,
      "outputs": []
    },
    {
      "cell_type": "code",
      "metadata": {
        "id": "h_2j7VI33n5g"
      },
      "source": [
        "df = pd.read_csv('Combined_News_DJIA.csv')"
      ],
      "execution_count": 5,
      "outputs": []
    },
    {
      "cell_type": "code",
      "metadata": {
        "colab": {
          "base_uri": "https://localhost:8080/",
          "height": 683
        },
        "id": "sUpHMarIGe0C",
        "outputId": "20c216ba-ddef-41e3-e24b-7e5b65f3921d"
      },
      "source": [
        "df.head()"
      ],
      "execution_count": 6,
      "outputs": [
        {
          "output_type": "execute_result",
          "data": {
            "text/html": [
              "<div>\n",
              "<style scoped>\n",
              "    .dataframe tbody tr th:only-of-type {\n",
              "        vertical-align: middle;\n",
              "    }\n",
              "\n",
              "    .dataframe tbody tr th {\n",
              "        vertical-align: top;\n",
              "    }\n",
              "\n",
              "    .dataframe thead th {\n",
              "        text-align: right;\n",
              "    }\n",
              "</style>\n",
              "<table border=\"1\" class=\"dataframe\">\n",
              "  <thead>\n",
              "    <tr style=\"text-align: right;\">\n",
              "      <th></th>\n",
              "      <th>Date</th>\n",
              "      <th>Label</th>\n",
              "      <th>Top1</th>\n",
              "      <th>Top2</th>\n",
              "      <th>Top3</th>\n",
              "      <th>Top4</th>\n",
              "      <th>Top5</th>\n",
              "      <th>Top6</th>\n",
              "      <th>Top7</th>\n",
              "      <th>Top8</th>\n",
              "      <th>Top9</th>\n",
              "      <th>Top10</th>\n",
              "      <th>Top11</th>\n",
              "      <th>Top12</th>\n",
              "      <th>Top13</th>\n",
              "      <th>Top14</th>\n",
              "      <th>Top15</th>\n",
              "      <th>Top16</th>\n",
              "      <th>Top17</th>\n",
              "      <th>Top18</th>\n",
              "      <th>Top19</th>\n",
              "      <th>Top20</th>\n",
              "      <th>Top21</th>\n",
              "      <th>Top22</th>\n",
              "      <th>Top23</th>\n",
              "      <th>Top24</th>\n",
              "      <th>Top25</th>\n",
              "    </tr>\n",
              "  </thead>\n",
              "  <tbody>\n",
              "    <tr>\n",
              "      <th>0</th>\n",
              "      <td>2008-08-08</td>\n",
              "      <td>0</td>\n",
              "      <td>b\"Georgia 'downs two Russian warplanes' as cou...</td>\n",
              "      <td>b'BREAKING: Musharraf to be impeached.'</td>\n",
              "      <td>b'Russia Today: Columns of troops roll into So...</td>\n",
              "      <td>b'Russian tanks are moving towards the capital...</td>\n",
              "      <td>b\"Afghan children raped with 'impunity,' U.N. ...</td>\n",
              "      <td>b'150 Russian tanks have entered South Ossetia...</td>\n",
              "      <td>b\"Breaking: Georgia invades South Ossetia, Rus...</td>\n",
              "      <td>b\"The 'enemy combatent' trials are nothing but...</td>\n",
              "      <td>b'Georgian troops retreat from S. Osettain cap...</td>\n",
              "      <td>b'Did the U.S. Prep Georgia for War with Russia?'</td>\n",
              "      <td>b'Rice Gives Green Light for Israel to Attack ...</td>\n",
              "      <td>b'Announcing:Class Action Lawsuit on Behalf of...</td>\n",
              "      <td>b\"So---Russia and Georgia are at war and the N...</td>\n",
              "      <td>b\"China tells Bush to stay out of other countr...</td>\n",
              "      <td>b'Did World War III start today?'</td>\n",
              "      <td>b'Georgia Invades South Ossetia - if Russia ge...</td>\n",
              "      <td>b'Al-Qaeda Faces Islamist Backlash'</td>\n",
              "      <td>b'Condoleezza Rice: \"The US would not act to p...</td>\n",
              "      <td>b'This is a busy day:  The European Union has ...</td>\n",
              "      <td>b\"Georgia will withdraw 1,000 soldiers from Ir...</td>\n",
              "      <td>b'Why the Pentagon Thinks Attacking Iran is a ...</td>\n",
              "      <td>b'Caucasus in crisis: Georgia invades South Os...</td>\n",
              "      <td>b'Indian shoe manufactory  - And again in a se...</td>\n",
              "      <td>b'Visitors Suffering from Mental Illnesses Ban...</td>\n",
              "      <td>b\"No Help for Mexico's Kidnapping Surge\"</td>\n",
              "    </tr>\n",
              "    <tr>\n",
              "      <th>1</th>\n",
              "      <td>2008-08-11</td>\n",
              "      <td>1</td>\n",
              "      <td>b'Why wont America and Nato help us? If they w...</td>\n",
              "      <td>b'Bush puts foot down on Georgian conflict'</td>\n",
              "      <td>b\"Jewish Georgian minister: Thanks to Israeli ...</td>\n",
              "      <td>b'Georgian army flees in disarray as Russians ...</td>\n",
              "      <td>b\"Olympic opening ceremony fireworks 'faked'\"</td>\n",
              "      <td>b'What were the Mossad with fraudulent New Zea...</td>\n",
              "      <td>b'Russia angered by Israeli military sale to G...</td>\n",
              "      <td>b'An American citizen living in S.Ossetia blam...</td>\n",
              "      <td>b'Welcome To World War IV! Now In High Definit...</td>\n",
              "      <td>b\"Georgia's move, a mistake of monumental prop...</td>\n",
              "      <td>b'Russia presses deeper into Georgia; U.S. say...</td>\n",
              "      <td>b'Abhinav Bindra wins first ever Individual Ol...</td>\n",
              "      <td>b' U.S. ship heads for Arctic to define territ...</td>\n",
              "      <td>b'Drivers in a Jerusalem taxi station threaten...</td>\n",
              "      <td>b'The French Team is Stunned by Phelps and the...</td>\n",
              "      <td>b'Israel and the US behind the Georgian aggres...</td>\n",
              "      <td>b'\"Do not believe TV, neither Russian nor Geor...</td>\n",
              "      <td>b'Riots are still going on in Montreal (Canada...</td>\n",
              "      <td>b'China to overtake US as largest manufacturer'</td>\n",
              "      <td>b'War in South Ossetia [PICS]'</td>\n",
              "      <td>b'Israeli Physicians Group Condemns State Tort...</td>\n",
              "      <td>b' Russia has just beaten the United States ov...</td>\n",
              "      <td>b'Perhaps *the* question about the Georgia - R...</td>\n",
              "      <td>b'Russia is so much better at war'</td>\n",
              "      <td>b\"So this is what it's come to: trading sex fo...</td>\n",
              "    </tr>\n",
              "    <tr>\n",
              "      <th>2</th>\n",
              "      <td>2008-08-12</td>\n",
              "      <td>0</td>\n",
              "      <td>b'Remember that adorable 9-year-old who sang a...</td>\n",
              "      <td>b\"Russia 'ends Georgia operation'\"</td>\n",
              "      <td>b'\"If we had no sexual harassment we would hav...</td>\n",
              "      <td>b\"Al-Qa'eda is losing support in Iraq because ...</td>\n",
              "      <td>b'Ceasefire in Georgia: Putin Outmaneuvers the...</td>\n",
              "      <td>b'Why Microsoft and Intel tried to kill the XO...</td>\n",
              "      <td>b'Stratfor: The Russo-Georgian War and the Bal...</td>\n",
              "      <td>b\"I'm Trying to Get a Sense of This Whole Geor...</td>\n",
              "      <td>b\"The US military was surprised by the timing ...</td>\n",
              "      <td>b'U.S. Beats War Drum as Iran Dumps the Dollar'</td>\n",
              "      <td>b'Gorbachev: \"Georgian military attacked the S...</td>\n",
              "      <td>b'CNN use footage of Tskhinvali ruins to cover...</td>\n",
              "      <td>b'Beginning a war as the Olympics were opening...</td>\n",
              "      <td>b'55 pyramids as large as the Luxor stacked in...</td>\n",
              "      <td>b'The 11 Top Party Cities in the World'</td>\n",
              "      <td>b'U.S. troops still in Georgia (did you know t...</td>\n",
              "      <td>b'Why Russias response to Georgia was right'</td>\n",
              "      <td>b'Gorbachev accuses U.S. of making a \"serious ...</td>\n",
              "      <td>b'Russia, Georgia, and NATO: Cold War Two'</td>\n",
              "      <td>b'Remember that adorable 62-year-old who led y...</td>\n",
              "      <td>b'War in Georgia: The Israeli connection'</td>\n",
              "      <td>b'All signs point to the US encouraging Georgi...</td>\n",
              "      <td>b'Christopher King argues that the US and NATO...</td>\n",
              "      <td>b'America: The New Mexico?'</td>\n",
              "      <td>b\"BBC NEWS | Asia-Pacific | Extinction 'by man...</td>\n",
              "    </tr>\n",
              "    <tr>\n",
              "      <th>3</th>\n",
              "      <td>2008-08-13</td>\n",
              "      <td>0</td>\n",
              "      <td>b' U.S. refuses Israel weapons to attack Iran:...</td>\n",
              "      <td>b\"When the president ordered to attack Tskhinv...</td>\n",
              "      <td>b' Israel clears troops who killed Reuters cam...</td>\n",
              "      <td>b'Britain\\'s policy of being tough on drugs is...</td>\n",
              "      <td>b'Body of 14 year old found in trunk; Latest (...</td>\n",
              "      <td>b'China has moved 10 *million* quake survivors...</td>\n",
              "      <td>b\"Bush announces Operation Get All Up In Russi...</td>\n",
              "      <td>b'Russian forces sink Georgian ships '</td>\n",
              "      <td>b\"The commander of a Navy air reconnaissance s...</td>\n",
              "      <td>b\"92% of CNN readers: Russia's actions in Geor...</td>\n",
              "      <td>b'USA to send fleet into Black Sea to help Geo...</td>\n",
              "      <td>b\"US warns against Israeli plan to strike agai...</td>\n",
              "      <td>b\"In an intriguing cyberalliance, two Estonian...</td>\n",
              "      <td>b'The CNN Effect: Georgia Schools Russia in In...</td>\n",
              "      <td>b'Why Russias response to Georgia was right'</td>\n",
              "      <td>b'Elephants extinct by 2020?'</td>\n",
              "      <td>b'US humanitarian missions soon in Georgia - i...</td>\n",
              "      <td>b\"Georgia's DDOS came from US sources\"</td>\n",
              "      <td>b'Russian convoy heads into Georgia, violating...</td>\n",
              "      <td>b'Israeli defence minister: US against strike ...</td>\n",
              "      <td>b'Gorbachev: We Had No Choice'</td>\n",
              "      <td>b'Witness: Russian forces head towards Tbilisi...</td>\n",
              "      <td>b' Quarter of Russians blame U.S. for conflict...</td>\n",
              "      <td>b'Georgian president  says US military will ta...</td>\n",
              "      <td>b'2006: Nobel laureate Aleksander Solzhenitsyn...</td>\n",
              "    </tr>\n",
              "    <tr>\n",
              "      <th>4</th>\n",
              "      <td>2008-08-14</td>\n",
              "      <td>1</td>\n",
              "      <td>b'All the experts admit that we should legalis...</td>\n",
              "      <td>b'War in South Osetia - 89 pictures made by a ...</td>\n",
              "      <td>b'Swedish wrestler Ara Abrahamian throws away ...</td>\n",
              "      <td>b'Russia exaggerated the death toll in South O...</td>\n",
              "      <td>b'Missile That Killed 9 Inside Pakistan May Ha...</td>\n",
              "      <td>b\"Rushdie Condemns Random House's Refusal to P...</td>\n",
              "      <td>b'Poland and US agree to missle defense deal. ...</td>\n",
              "      <td>b'Will the Russians conquer Tblisi? Bet on it,...</td>\n",
              "      <td>b'Russia exaggerating South Ossetian death tol...</td>\n",
              "      <td>b' Musharraf expected to resign rather than fa...</td>\n",
              "      <td>b'Moscow Made Plans Months Ago to Invade Georgia'</td>\n",
              "      <td>b'Why Russias response to Georgia was right'</td>\n",
              "      <td>b'Nigeria has handed over the potentially oil-...</td>\n",
              "      <td>b'The US and Poland have agreed a preliminary ...</td>\n",
              "      <td>b'Russia apparently is sabotaging infrastructu...</td>\n",
              "      <td>b'Bank analyst forecast Georgian crisis 2 days...</td>\n",
              "      <td>b\"Georgia confict could set back Russia's US r...</td>\n",
              "      <td>b'War in the Caucasus is as much the product o...</td>\n",
              "      <td>b'\"Non-media\" photos of South Ossetia/Georgia ...</td>\n",
              "      <td>b'Georgian TV reporter shot by Russian sniper ...</td>\n",
              "      <td>b'Saudi Arabia: Mother moves to block child ma...</td>\n",
              "      <td>b'Taliban wages war on humanitarian aid workers'</td>\n",
              "      <td>b'Russia: World  \"can forget about\" Georgia\\'s...</td>\n",
              "      <td>b'Darfur rebels accuse Sudan of mounting major...</td>\n",
              "      <td>b'Philippines : Peace Advocate say Muslims nee...</td>\n",
              "    </tr>\n",
              "  </tbody>\n",
              "</table>\n",
              "</div>"
            ],
            "text/plain": [
              "         Date  ...                                              Top25\n",
              "0  2008-08-08  ...           b\"No Help for Mexico's Kidnapping Surge\"\n",
              "1  2008-08-11  ...  b\"So this is what it's come to: trading sex fo...\n",
              "2  2008-08-12  ...  b\"BBC NEWS | Asia-Pacific | Extinction 'by man...\n",
              "3  2008-08-13  ...  b'2006: Nobel laureate Aleksander Solzhenitsyn...\n",
              "4  2008-08-14  ...  b'Philippines : Peace Advocate say Muslims nee...\n",
              "\n",
              "[5 rows x 27 columns]"
            ]
          },
          "metadata": {
            "tags": []
          },
          "execution_count": 6
        }
      ]
    },
    {
      "cell_type": "code",
      "metadata": {
        "id": "jg96GWp9UU0L"
      },
      "source": [
        "#divide in train and tes\n",
        "train = df[df['Date']<'20150101']\n",
        "test = df[df['Date'] > '20141231']"
      ],
      "execution_count": 7,
      "outputs": []
    },
    {
      "cell_type": "code",
      "metadata": {
        "id": "7BjKKRvnb2Yo"
      },
      "source": [
        "#remove punctuation\n",
        "#apart from alphabets we will replace every character with blank\n",
        "data = train.iloc[:, 2:27]\n",
        "data.replace(\"[^a-zA-Z]\", \" \", regex=True, inplace=True)"
      ],
      "execution_count": null,
      "outputs": []
    },
    {
      "cell_type": "code",
      "metadata": {
        "colab": {
          "base_uri": "https://localhost:8080/",
          "height": 717
        },
        "id": "DMN8Vxu9cS6k",
        "outputId": "dda21017-2ff8-4e45-fb59-b03ab541fbcf"
      },
      "source": [
        "#renaming column\n",
        "list1 = [i for i in range(25)]\n",
        "new_Index = [str(i) for i in list1]\n",
        "data.columns = new_Index\n",
        "data.head(5)"
      ],
      "execution_count": null,
      "outputs": [
        {
          "output_type": "execute_result",
          "data": {
            "text/html": [
              "<div>\n",
              "<style scoped>\n",
              "    .dataframe tbody tr th:only-of-type {\n",
              "        vertical-align: middle;\n",
              "    }\n",
              "\n",
              "    .dataframe tbody tr th {\n",
              "        vertical-align: top;\n",
              "    }\n",
              "\n",
              "    .dataframe thead th {\n",
              "        text-align: right;\n",
              "    }\n",
              "</style>\n",
              "<table border=\"1\" class=\"dataframe\">\n",
              "  <thead>\n",
              "    <tr style=\"text-align: right;\">\n",
              "      <th></th>\n",
              "      <th>0</th>\n",
              "      <th>1</th>\n",
              "      <th>2</th>\n",
              "      <th>3</th>\n",
              "      <th>4</th>\n",
              "      <th>5</th>\n",
              "      <th>6</th>\n",
              "      <th>7</th>\n",
              "      <th>8</th>\n",
              "      <th>9</th>\n",
              "      <th>10</th>\n",
              "      <th>11</th>\n",
              "      <th>12</th>\n",
              "      <th>13</th>\n",
              "      <th>14</th>\n",
              "      <th>15</th>\n",
              "      <th>16</th>\n",
              "      <th>17</th>\n",
              "      <th>18</th>\n",
              "      <th>19</th>\n",
              "      <th>20</th>\n",
              "      <th>21</th>\n",
              "      <th>22</th>\n",
              "      <th>23</th>\n",
              "      <th>24</th>\n",
              "    </tr>\n",
              "  </thead>\n",
              "  <tbody>\n",
              "    <tr>\n",
              "      <th>0</th>\n",
              "      <td>b Georgia  downs two Russian warplanes  as cou...</td>\n",
              "      <td>b BREAKING  Musharraf to be impeached</td>\n",
              "      <td>b Russia Today  Columns of troops roll into So...</td>\n",
              "      <td>b Russian tanks are moving towards the capital...</td>\n",
              "      <td>b Afghan children raped with  impunity   U N  ...</td>\n",
              "      <td>b     Russian tanks have entered South Ossetia...</td>\n",
              "      <td>b Breaking  Georgia invades South Ossetia  Rus...</td>\n",
              "      <td>b The  enemy combatent  trials are nothing but...</td>\n",
              "      <td>b Georgian troops retreat from S  Osettain cap...</td>\n",
              "      <td>b Did the U S  Prep Georgia for War with Russia</td>\n",
              "      <td>b Rice Gives Green Light for Israel to Attack ...</td>\n",
              "      <td>b Announcing Class Action Lawsuit on Behalf of...</td>\n",
              "      <td>b So   Russia and Georgia are at war and the N...</td>\n",
              "      <td>b China tells Bush to stay out of other countr...</td>\n",
              "      <td>b Did World War III start today</td>\n",
              "      <td>b Georgia Invades South Ossetia   if Russia ge...</td>\n",
              "      <td>b Al Qaeda Faces Islamist Backlash</td>\n",
              "      <td>b Condoleezza Rice   The US would not act to p...</td>\n",
              "      <td>b This is a busy day   The European Union has ...</td>\n",
              "      <td>b Georgia will withdraw       soldiers from Ir...</td>\n",
              "      <td>b Why the Pentagon Thinks Attacking Iran is a ...</td>\n",
              "      <td>b Caucasus in crisis  Georgia invades South Os...</td>\n",
              "      <td>b Indian shoe manufactory    And again in a se...</td>\n",
              "      <td>b Visitors Suffering from Mental Illnesses Ban...</td>\n",
              "      <td>b No Help for Mexico s Kidnapping Surge</td>\n",
              "    </tr>\n",
              "    <tr>\n",
              "      <th>1</th>\n",
              "      <td>b Why wont America and Nato help us  If they w...</td>\n",
              "      <td>b Bush puts foot down on Georgian conflict</td>\n",
              "      <td>b Jewish Georgian minister  Thanks to Israeli ...</td>\n",
              "      <td>b Georgian army flees in disarray as Russians ...</td>\n",
              "      <td>b Olympic opening ceremony fireworks  faked</td>\n",
              "      <td>b What were the Mossad with fraudulent New Zea...</td>\n",
              "      <td>b Russia angered by Israeli military sale to G...</td>\n",
              "      <td>b An American citizen living in S Ossetia blam...</td>\n",
              "      <td>b Welcome To World War IV  Now In High Definit...</td>\n",
              "      <td>b Georgia s move  a mistake of monumental prop...</td>\n",
              "      <td>b Russia presses deeper into Georgia  U S  say...</td>\n",
              "      <td>b Abhinav Bindra wins first ever Individual Ol...</td>\n",
              "      <td>b  U S  ship heads for Arctic to define territ...</td>\n",
              "      <td>b Drivers in a Jerusalem taxi station threaten...</td>\n",
              "      <td>b The French Team is Stunned by Phelps and the...</td>\n",
              "      <td>b Israel and the US behind the Georgian aggres...</td>\n",
              "      <td>b  Do not believe TV  neither Russian nor Geor...</td>\n",
              "      <td>b Riots are still going on in Montreal  Canada...</td>\n",
              "      <td>b China to overtake US as largest manufacturer</td>\n",
              "      <td>b War in South Ossetia  PICS</td>\n",
              "      <td>b Israeli Physicians Group Condemns State Tort...</td>\n",
              "      <td>b  Russia has just beaten the United States ov...</td>\n",
              "      <td>b Perhaps  the  question about the Georgia   R...</td>\n",
              "      <td>b Russia is so much better at war</td>\n",
              "      <td>b So this is what it s come to  trading sex fo...</td>\n",
              "    </tr>\n",
              "    <tr>\n",
              "      <th>2</th>\n",
              "      <td>b Remember that adorable   year old who sang a...</td>\n",
              "      <td>b Russia  ends Georgia operation</td>\n",
              "      <td>b  If we had no sexual harassment we would hav...</td>\n",
              "      <td>b Al Qa eda is losing support in Iraq because ...</td>\n",
              "      <td>b Ceasefire in Georgia  Putin Outmaneuvers the...</td>\n",
              "      <td>b Why Microsoft and Intel tried to kill the XO...</td>\n",
              "      <td>b Stratfor  The Russo Georgian War and the Bal...</td>\n",
              "      <td>b I m Trying to Get a Sense of This Whole Geor...</td>\n",
              "      <td>b The US military was surprised by the timing ...</td>\n",
              "      <td>b U S  Beats War Drum as Iran Dumps the Dollar</td>\n",
              "      <td>b Gorbachev   Georgian military attacked the S...</td>\n",
              "      <td>b CNN use footage of Tskhinvali ruins to cover...</td>\n",
              "      <td>b Beginning a war as the Olympics were opening...</td>\n",
              "      <td>b    pyramids as large as the Luxor stacked in...</td>\n",
              "      <td>b The    Top Party Cities in the World</td>\n",
              "      <td>b U S  troops still in Georgia  did you know t...</td>\n",
              "      <td>b Why Russias response to Georgia was right</td>\n",
              "      <td>b Gorbachev accuses U S  of making a  serious ...</td>\n",
              "      <td>b Russia  Georgia  and NATO  Cold War Two</td>\n",
              "      <td>b Remember that adorable    year old who led y...</td>\n",
              "      <td>b War in Georgia  The Israeli connection</td>\n",
              "      <td>b All signs point to the US encouraging Georgi...</td>\n",
              "      <td>b Christopher King argues that the US and NATO...</td>\n",
              "      <td>b America  The New Mexico</td>\n",
              "      <td>b BBC NEWS   Asia Pacific   Extinction  by man...</td>\n",
              "    </tr>\n",
              "    <tr>\n",
              "      <th>3</th>\n",
              "      <td>b  U S  refuses Israel weapons to attack Iran ...</td>\n",
              "      <td>b When the president ordered to attack Tskhinv...</td>\n",
              "      <td>b  Israel clears troops who killed Reuters cam...</td>\n",
              "      <td>b Britain  s policy of being tough on drugs is...</td>\n",
              "      <td>b Body of    year old found in trunk  Latest  ...</td>\n",
              "      <td>b China has moved     million  quake survivors...</td>\n",
              "      <td>b Bush announces Operation Get All Up In Russi...</td>\n",
              "      <td>b Russian forces sink Georgian ships</td>\n",
              "      <td>b The commander of a Navy air reconnaissance s...</td>\n",
              "      <td>b     of CNN readers  Russia s actions in Geor...</td>\n",
              "      <td>b USA to send fleet into Black Sea to help Geo...</td>\n",
              "      <td>b US warns against Israeli plan to strike agai...</td>\n",
              "      <td>b In an intriguing cyberalliance  two Estonian...</td>\n",
              "      <td>b The CNN Effect  Georgia Schools Russia in In...</td>\n",
              "      <td>b Why Russias response to Georgia was right</td>\n",
              "      <td>b Elephants extinct by</td>\n",
              "      <td>b US humanitarian missions soon in Georgia   i...</td>\n",
              "      <td>b Georgia s DDOS came from US sources</td>\n",
              "      <td>b Russian convoy heads into Georgia  violating...</td>\n",
              "      <td>b Israeli defence minister  US against strike ...</td>\n",
              "      <td>b Gorbachev  We Had No Choice</td>\n",
              "      <td>b Witness  Russian forces head towards Tbilisi...</td>\n",
              "      <td>b  Quarter of Russians blame U S  for conflict...</td>\n",
              "      <td>b Georgian president  says US military will ta...</td>\n",
              "      <td>b       Nobel laureate Aleksander Solzhenitsyn...</td>\n",
              "    </tr>\n",
              "    <tr>\n",
              "      <th>4</th>\n",
              "      <td>b All the experts admit that we should legalis...</td>\n",
              "      <td>b War in South Osetia      pictures made by a ...</td>\n",
              "      <td>b Swedish wrestler Ara Abrahamian throws away ...</td>\n",
              "      <td>b Russia exaggerated the death toll in South O...</td>\n",
              "      <td>b Missile That Killed   Inside Pakistan May Ha...</td>\n",
              "      <td>b Rushdie Condemns Random House s Refusal to P...</td>\n",
              "      <td>b Poland and US agree to missle defense deal  ...</td>\n",
              "      <td>b Will the Russians conquer Tblisi  Bet on it ...</td>\n",
              "      <td>b Russia exaggerating South Ossetian death tol...</td>\n",
              "      <td>b  Musharraf expected to resign rather than fa...</td>\n",
              "      <td>b Moscow Made Plans Months Ago to Invade Georgia</td>\n",
              "      <td>b Why Russias response to Georgia was right</td>\n",
              "      <td>b Nigeria has handed over the potentially oil ...</td>\n",
              "      <td>b The US and Poland have agreed a preliminary ...</td>\n",
              "      <td>b Russia apparently is sabotaging infrastructu...</td>\n",
              "      <td>b Bank analyst forecast Georgian crisis   days...</td>\n",
              "      <td>b Georgia confict could set back Russia s US r...</td>\n",
              "      <td>b War in the Caucasus is as much the product o...</td>\n",
              "      <td>b  Non media  photos of South Ossetia Georgia ...</td>\n",
              "      <td>b Georgian TV reporter shot by Russian sniper ...</td>\n",
              "      <td>b Saudi Arabia  Mother moves to block child ma...</td>\n",
              "      <td>b Taliban wages war on humanitarian aid workers</td>\n",
              "      <td>b Russia  World   can forget about  Georgia  s...</td>\n",
              "      <td>b Darfur rebels accuse Sudan of mounting major...</td>\n",
              "      <td>b Philippines   Peace Advocate say Muslims nee...</td>\n",
              "    </tr>\n",
              "  </tbody>\n",
              "</table>\n",
              "</div>"
            ],
            "text/plain": [
              "                                                   0  ...                                                 24\n",
              "0  b Georgia  downs two Russian warplanes  as cou...  ...           b No Help for Mexico s Kidnapping Surge \n",
              "1  b Why wont America and Nato help us  If they w...  ...  b So this is what it s come to  trading sex fo...\n",
              "2  b Remember that adorable   year old who sang a...  ...  b BBC NEWS   Asia Pacific   Extinction  by man...\n",
              "3  b  U S  refuses Israel weapons to attack Iran ...  ...  b       Nobel laureate Aleksander Solzhenitsyn...\n",
              "4  b All the experts admit that we should legalis...  ...  b Philippines   Peace Advocate say Muslims nee...\n",
              "\n",
              "[5 rows x 25 columns]"
            ]
          },
          "metadata": {
            "tags": []
          },
          "execution_count": 173
        }
      ]
    },
    {
      "cell_type": "code",
      "metadata": {
        "colab": {
          "base_uri": "https://localhost:8080/",
          "height": 369
        },
        "id": "5YSn9SOJce-n",
        "outputId": "0a5b2c78-d65a-4099-bc1e-6dc639cf5201"
      },
      "source": [
        "#converting hadlines to lower case\n",
        "for index in new_Index:\n",
        "    data[index] = data[index].str.lower()\n",
        "data.head(2)"
      ],
      "execution_count": null,
      "outputs": [
        {
          "output_type": "execute_result",
          "data": {
            "text/html": [
              "<div>\n",
              "<style scoped>\n",
              "    .dataframe tbody tr th:only-of-type {\n",
              "        vertical-align: middle;\n",
              "    }\n",
              "\n",
              "    .dataframe tbody tr th {\n",
              "        vertical-align: top;\n",
              "    }\n",
              "\n",
              "    .dataframe thead th {\n",
              "        text-align: right;\n",
              "    }\n",
              "</style>\n",
              "<table border=\"1\" class=\"dataframe\">\n",
              "  <thead>\n",
              "    <tr style=\"text-align: right;\">\n",
              "      <th></th>\n",
              "      <th>0</th>\n",
              "      <th>1</th>\n",
              "      <th>2</th>\n",
              "      <th>3</th>\n",
              "      <th>4</th>\n",
              "      <th>5</th>\n",
              "      <th>6</th>\n",
              "      <th>7</th>\n",
              "      <th>8</th>\n",
              "      <th>9</th>\n",
              "      <th>10</th>\n",
              "      <th>11</th>\n",
              "      <th>12</th>\n",
              "      <th>13</th>\n",
              "      <th>14</th>\n",
              "      <th>15</th>\n",
              "      <th>16</th>\n",
              "      <th>17</th>\n",
              "      <th>18</th>\n",
              "      <th>19</th>\n",
              "      <th>20</th>\n",
              "      <th>21</th>\n",
              "      <th>22</th>\n",
              "      <th>23</th>\n",
              "      <th>24</th>\n",
              "    </tr>\n",
              "  </thead>\n",
              "  <tbody>\n",
              "    <tr>\n",
              "      <th>0</th>\n",
              "      <td>b georgia  downs two russian warplanes  as cou...</td>\n",
              "      <td>b breaking  musharraf to be impeached</td>\n",
              "      <td>b russia today  columns of troops roll into so...</td>\n",
              "      <td>b russian tanks are moving towards the capital...</td>\n",
              "      <td>b afghan children raped with  impunity   u n  ...</td>\n",
              "      <td>b     russian tanks have entered south ossetia...</td>\n",
              "      <td>b breaking  georgia invades south ossetia  rus...</td>\n",
              "      <td>b the  enemy combatent  trials are nothing but...</td>\n",
              "      <td>b georgian troops retreat from s  osettain cap...</td>\n",
              "      <td>b did the u s  prep georgia for war with russia</td>\n",
              "      <td>b rice gives green light for israel to attack ...</td>\n",
              "      <td>b announcing class action lawsuit on behalf of...</td>\n",
              "      <td>b so   russia and georgia are at war and the n...</td>\n",
              "      <td>b china tells bush to stay out of other countr...</td>\n",
              "      <td>b did world war iii start today</td>\n",
              "      <td>b georgia invades south ossetia   if russia ge...</td>\n",
              "      <td>b al qaeda faces islamist backlash</td>\n",
              "      <td>b condoleezza rice   the us would not act to p...</td>\n",
              "      <td>b this is a busy day   the european union has ...</td>\n",
              "      <td>b georgia will withdraw       soldiers from ir...</td>\n",
              "      <td>b why the pentagon thinks attacking iran is a ...</td>\n",
              "      <td>b caucasus in crisis  georgia invades south os...</td>\n",
              "      <td>b indian shoe manufactory    and again in a se...</td>\n",
              "      <td>b visitors suffering from mental illnesses ban...</td>\n",
              "      <td>b no help for mexico s kidnapping surge</td>\n",
              "    </tr>\n",
              "    <tr>\n",
              "      <th>1</th>\n",
              "      <td>b why wont america and nato help us  if they w...</td>\n",
              "      <td>b bush puts foot down on georgian conflict</td>\n",
              "      <td>b jewish georgian minister  thanks to israeli ...</td>\n",
              "      <td>b georgian army flees in disarray as russians ...</td>\n",
              "      <td>b olympic opening ceremony fireworks  faked</td>\n",
              "      <td>b what were the mossad with fraudulent new zea...</td>\n",
              "      <td>b russia angered by israeli military sale to g...</td>\n",
              "      <td>b an american citizen living in s ossetia blam...</td>\n",
              "      <td>b welcome to world war iv  now in high definit...</td>\n",
              "      <td>b georgia s move  a mistake of monumental prop...</td>\n",
              "      <td>b russia presses deeper into georgia  u s  say...</td>\n",
              "      <td>b abhinav bindra wins first ever individual ol...</td>\n",
              "      <td>b  u s  ship heads for arctic to define territ...</td>\n",
              "      <td>b drivers in a jerusalem taxi station threaten...</td>\n",
              "      <td>b the french team is stunned by phelps and the...</td>\n",
              "      <td>b israel and the us behind the georgian aggres...</td>\n",
              "      <td>b  do not believe tv  neither russian nor geor...</td>\n",
              "      <td>b riots are still going on in montreal  canada...</td>\n",
              "      <td>b china to overtake us as largest manufacturer</td>\n",
              "      <td>b war in south ossetia  pics</td>\n",
              "      <td>b israeli physicians group condemns state tort...</td>\n",
              "      <td>b  russia has just beaten the united states ov...</td>\n",
              "      <td>b perhaps  the  question about the georgia   r...</td>\n",
              "      <td>b russia is so much better at war</td>\n",
              "      <td>b so this is what it s come to  trading sex fo...</td>\n",
              "    </tr>\n",
              "  </tbody>\n",
              "</table>\n",
              "</div>"
            ],
            "text/plain": [
              "                                                   0  ...                                                 24\n",
              "0  b georgia  downs two russian warplanes  as cou...  ...           b no help for mexico s kidnapping surge \n",
              "1  b why wont america and nato help us  if they w...  ...  b so this is what it s come to  trading sex fo...\n",
              "\n",
              "[2 rows x 25 columns]"
            ]
          },
          "metadata": {
            "tags": []
          },
          "execution_count": 174
        }
      ]
    },
    {
      "cell_type": "code",
      "metadata": {
        "colab": {
          "base_uri": "https://localhost:8080/",
          "height": 137
        },
        "id": "NnwnEe4ZclfZ",
        "outputId": "b77ba0b7-abfd-48bb-f8a7-351f69c2a3b0"
      },
      "source": [
        "' '.join(str(x) for x in data.iloc[1, 0:25])  #example"
      ],
      "execution_count": null,
      "outputs": [
        {
          "output_type": "execute_result",
          "data": {
            "application/vnd.google.colaboratory.intrinsic+json": {
              "type": "string"
            },
            "text/plain": [
              "'b why wont america and nato help us  if they wont help us now  why did we help them in iraq   b bush puts foot down on georgian conflict  b jewish georgian minister  thanks to israeli training  we re fending off russia   b georgian army flees in disarray as russians advance   gori abandoned to russia without a shot fired  b olympic opening ceremony fireworks  faked   b what were the mossad with fraudulent new zealand passports doing in iraq   b russia angered by israeli military sale to georgia  b an american citizen living in s ossetia blames u s  and georgian leaders for the genocide of innocent people  b welcome to world war iv  now in high definition   b georgia s move  a mistake of monumental proportions   b russia presses deeper into georgia  u s  says regime change is goal  b abhinav bindra wins first ever individual olympic gold medal for india  b  u s  ship heads for arctic to define territory  b drivers in a jerusalem taxi station threaten to quit rather than work for their new boss   an arab  b the french team is stunned by phelps and the  x   m relay team  b israel and the us behind the georgian aggression   b  do not believe tv  neither russian nor georgian  there are much more victims   b riots are still going on in montreal  canada  because police murdered a boy on saturday   b china to overtake us as largest manufacturer  b war in south ossetia  pics   b israeli physicians group condemns state torture  b  russia has just beaten the united states over the head with peak oil  b perhaps  the  question about the georgia   russia conflict   b russia is so much better at war  b so this is what it s come to  trading sex for food  '"
            ]
          },
          "metadata": {
            "tags": []
          },
          "execution_count": 175
        }
      ]
    },
    {
      "cell_type": "code",
      "metadata": {
        "colab": {
          "base_uri": "https://localhost:8080/",
          "height": 137
        },
        "id": "ryoZnaKYco53",
        "outputId": "aebb986e-a3b8-4414-da69-21fbb17174d2"
      },
      "source": [
        "#all the sentences in the form of list\n",
        "\n",
        "headlines = []\n",
        "for row in range(0, len(data.index)):\n",
        "    headlines.append(' '.join(str(x) for x in data.iloc[row, 0:25]))\n",
        "\n",
        "headlines[5]"
      ],
      "execution_count": null,
      "outputs": [
        {
          "output_type": "execute_result",
          "data": {
            "application/vnd.google.colaboratory.intrinsic+json": {
              "type": "string"
            },
            "text/plain": [
              "'b mom of missing gay man  too bad he s not a    year old cheerleader  then they d still be looking for him  b russia  u s  poland missile deal won t go  unpunished   b the government has been accused of creating laws that have a chilling effect on freedom of expression in the uk in a critical report from the un s committee on human rights  b the italian government has lashed out at an influential catholic magazine which suggested fascism might be resurfacing within the government   b gorbachev  georgia started conflict in s  ossetia  b china fakes more than your girlfriend   ethnic minority  children at olympics ceremony were fake too   b the un s criticism of freedom of expression in the uk are valid  b russian general threatens nuclear strike on poland as bush demands moscow withdraws from georgia  b russia can inspect polish missile defence site  b russia georgia conflict fueled by rush to control caspian energy resources  b business week  victory in georgia gives russia the edge in the struggle over access to the caspian s    billion barrels of oil and trillions of cubic feet of gas  b under soviet rule we didn t believe a word of our own propaganda    but we have learnt    that the west has its own propaganda and    is more powerful because people believe it   b ministers have been accused of building a national dna database  by stealth  by retaining profiles of nearly        children never convicted of a crime   b russia  georgia can  forget  regaining provinces  b russians  seize us weapons depot  in georgia  b why are redditors generally supportive of russias invasion of georgia  but critical of americas in iraq   b johann hari  we need to stop being such cowards about islam  b us officials have said that their military presence in georgia will now become permanent  b israel clears troops who killed reuters cameraman  b unenforceable laws encourage cops to escalate their tactics    until tragedy occurs  b what chinese pollution really looks like  b hacker kidnaps and tortures informant  posts picture as a warning to others  b bush tells putin  this aggression will not stand  b georgia is all about the oil pipelines  b rivals say they plan to remove georgian president '"
            ]
          },
          "metadata": {
            "tags": []
          },
          "execution_count": 176
        }
      ]
    },
    {
      "cell_type": "code",
      "metadata": {
        "colab": {
          "base_uri": "https://localhost:8080/"
        },
        "id": "sacgBZkCVdxd",
        "outputId": "b93b1c73-4ff0-4635-aa1f-4b6a7edf0a34"
      },
      "source": [
        "len(headlines)"
      ],
      "execution_count": null,
      "outputs": [
        {
          "output_type": "execute_result",
          "data": {
            "text/plain": [
              "1863"
            ]
          },
          "metadata": {
            "tags": []
          },
          "execution_count": 177
        }
      ]
    },
    {
      "cell_type": "code",
      "metadata": {
        "id": "H3qUtOWfgvp2"
      },
      "source": [
        "from sklearn.feature_extraction.text import CountVectorizer\n",
        "from sklearn.ensemble import RandomForestClassifier"
      ],
      "execution_count": null,
      "outputs": []
    },
    {
      "cell_type": "code",
      "metadata": {
        "id": "XOaKr1pJgwqW"
      },
      "source": [
        "# implememt BAG OF WORDS\n",
        "countVector = CountVectorizer(ngram_range=(2,2))\n",
        "#ngram(2,2) means it will combine the 2 words together and assign the value\n",
        "\n",
        "trainDataset = countVector.fit_transform(headlines)"
      ],
      "execution_count": null,
      "outputs": []
    },
    {
      "cell_type": "code",
      "metadata": {
        "colab": {
          "base_uri": "https://localhost:8080/"
        },
        "id": "7p7oDqRFVI49",
        "outputId": "f487fcd5-8e85-4a0c-9877-ec418d5b9715"
      },
      "source": [
        "trainDataset.shape"
      ],
      "execution_count": null,
      "outputs": [
        {
          "output_type": "execute_result",
          "data": {
            "text/plain": [
              "(1863, 403977)"
            ]
          },
          "metadata": {
            "tags": []
          },
          "execution_count": 180
        }
      ]
    },
    {
      "cell_type": "markdown",
      "metadata": {
        "id": "qaH9REvhV6f1"
      },
      "source": [
        "### Random Forest Classifier"
      ]
    },
    {
      "cell_type": "code",
      "metadata": {
        "id": "4tNnMQ8Thit9"
      },
      "source": [
        "randomClassifier = RandomForestClassifier(n_estimators=200, criterion='entropy')\n",
        "randomClassifier.fit(trainDataset, train['Label'])"
      ],
      "execution_count": null,
      "outputs": []
    },
    {
      "cell_type": "code",
      "metadata": {
        "id": "iIX_JofWhrd0"
      },
      "source": [
        "testTransform =[]\n",
        "for row in range(0, len(test.index)):\n",
        "    testTransform.append(' '.join(str(x) for x in test.iloc[row, 2:27]))\n",
        "    \n",
        "test_dataset = countVector.transform(testTransform)\n",
        "predictions = randomClassifier.predict(test_dataset)"
      ],
      "execution_count": null,
      "outputs": []
    },
    {
      "cell_type": "code",
      "metadata": {
        "colab": {
          "base_uri": "https://localhost:8080/"
        },
        "id": "v5aUCT74h0VU",
        "outputId": "518dd93e-7e42-434d-f223-cb34ee184a1d"
      },
      "source": [
        "test.loc[1611, :]"
      ],
      "execution_count": null,
      "outputs": [
        {
          "output_type": "execute_result",
          "data": {
            "text/plain": [
              "Date                                            2015-01-02\n",
              "Label                                                    1\n",
              "Top1     Most cases of cancer are the result of sheer b...\n",
              "Top2     Iran dismissed United States efforts to fight ...\n",
              "Top3     Poll: One in 8 Germans would join anti-Muslim ...\n",
              "Top4     UK royal family's Prince Andrew named in US la...\n",
              "Top5     Some 40 asylum-seekers refused to leave the bu...\n",
              "Top6     Pakistani boat blows self up after India navy ...\n",
              "Top7     Sweden hit by third mosque arson attack in a week\n",
              "Top8            940 cars set alight during French New Year\n",
              "Top9     Salaries for top CEOs rose twice as fast as av...\n",
              "Top10    Norway violated equal-pay law, judge says: Jud...\n",
              "Top11    Imam wants radical recruiters of Muslim youth ...\n",
              "Top12    Saudi Arabia beheaded 83 people in 2014, the m...\n",
              "Top13    'A living hell' for slaves on remote South Kor...\n",
              "Top14    Worlds 400 richest get richer, adding $92bn in...\n",
              "Top15    Rental Car Stereos Infringe Copyright, Music R...\n",
              "Top16    Ukrainian minister threatens TV channel with c...\n",
              "Top17    Palestinian President Mahmoud Abbas has entere...\n",
              "Top18    Israeli security center publishes names of 50 ...\n",
              "Top19    The year 2014 was the deadliest year yet in Sy...\n",
              "Top20    A Secret underground complex built by the Nazi...\n",
              "Top21    Restrictions on Web Freedom a Major Global Iss...\n",
              "Top22    Austrian journalist Erich Mchel delivered a pr...\n",
              "Top23      Thousands of Ukraine nationalists march in Kiev\n",
              "Top24    Chinas New Years Resolution: No More Harvestin...\n",
              "Top25    Authorities Pull Plug on Russia's Last Politic...\n",
              "Name: 1611, dtype: object"
            ]
          },
          "metadata": {
            "tags": []
          },
          "execution_count": 183
        }
      ]
    },
    {
      "cell_type": "code",
      "metadata": {
        "colab": {
          "base_uri": "https://localhost:8080/"
        },
        "id": "g8aVy2Nuh4C1",
        "outputId": "e2e0f9cc-9875-4d43-eebe-bba2517c3fcf"
      },
      "source": [
        "predictions"
      ],
      "execution_count": null,
      "outputs": [
        {
          "output_type": "execute_result",
          "data": {
            "text/plain": [
              "array([1, 0, 0, 1, 1, 0, 0, 0, 0, 0, 1, 1, 1, 1, 0, 1, 0, 0, 1, 0, 1, 1,\n",
              "       1, 1, 0, 0, 1, 0, 1, 1, 1, 0, 0, 1, 0, 1, 1, 0, 0, 1, 0, 0, 1, 0,\n",
              "       1, 0, 0, 1, 0, 1, 0, 1, 0, 1, 0, 0, 0, 0, 1, 1, 0, 0, 1, 1, 0, 1,\n",
              "       1, 1, 0, 1, 1, 0, 0, 1, 0, 1, 1, 1, 0, 1, 0, 0, 1, 1, 0, 0, 1, 1,\n",
              "       0, 0, 0, 1, 1, 1, 1, 0, 1, 0, 0, 1, 0, 0, 1, 0, 1, 0, 0, 0, 0, 1,\n",
              "       1, 0, 0, 1, 1, 1, 0, 1, 1, 0, 0, 1, 0, 1, 1, 0, 0, 1, 0, 1, 1, 1,\n",
              "       1, 0, 1, 0, 1, 0, 0, 0, 0, 0, 1, 1, 0, 0, 0, 0, 0, 0, 0, 1, 0, 0,\n",
              "       1, 1, 1, 0, 0, 0, 0, 0, 0, 1, 1, 0, 0, 0, 1, 1, 0, 1, 0, 1, 1, 0,\n",
              "       1, 1, 0, 0, 1, 0, 0, 0, 1, 0, 1, 1, 0, 1, 1, 1, 1, 1, 1, 1, 0, 0,\n",
              "       1, 1, 1, 0, 0, 1, 1, 0, 0, 1, 0, 0, 1, 1, 0, 0, 1, 0, 1, 0, 0, 0,\n",
              "       1, 1, 1, 0, 1, 0, 1, 1, 0, 0, 1, 0, 0, 1, 0, 0, 0, 1, 0, 1, 1, 1,\n",
              "       0, 0, 1, 1, 1, 0, 0, 1, 0, 0, 1, 0, 1, 1, 1, 1, 1, 1, 1, 1, 1, 1,\n",
              "       1, 1, 1, 1, 1, 1, 1, 1, 1, 1, 1, 1, 1, 1, 1, 1, 1, 1, 1, 1, 1, 1,\n",
              "       1, 1, 1, 1, 1, 1, 1, 1, 1, 1, 1, 1, 1, 1, 1, 1, 1, 1, 1, 1, 1, 1,\n",
              "       1, 1, 1, 1, 1, 1, 1, 1, 1, 1, 1, 1, 1, 1, 1, 1, 1, 1, 1, 1, 1, 1,\n",
              "       1, 1, 1, 1, 1, 1, 0, 1, 1, 1, 1, 1, 1, 1, 1, 1, 1, 1, 1, 1, 1, 1,\n",
              "       1, 1, 1, 1, 1, 1, 1, 1, 1, 1, 1, 1, 1, 1, 1, 1, 1, 1, 1, 1, 1, 1,\n",
              "       1, 1, 1, 1])"
            ]
          },
          "metadata": {
            "tags": []
          },
          "execution_count": 184
        }
      ]
    },
    {
      "cell_type": "code",
      "metadata": {
        "id": "8s0-0LIGh7WT"
      },
      "source": [
        "from sklearn.metrics import classification_report, confusion_matrix, accuracy_score"
      ],
      "execution_count": null,
      "outputs": []
    },
    {
      "cell_type": "code",
      "metadata": {
        "colab": {
          "base_uri": "https://localhost:8080/"
        },
        "id": "hQBiuVhlh9b4",
        "outputId": "8858f9e7-e953-4e15-e7f2-3c283f911ac9"
      },
      "source": [
        "matrix = confusion_matrix(test['Label'], predictions)\n",
        "print(matrix)\n",
        "score = accuracy_score(test['Label'], predictions)\n",
        "print(score)\n",
        "report = classification_report(test['Label'], predictions)\n",
        "print(report)"
      ],
      "execution_count": null,
      "outputs": [
        {
          "output_type": "stream",
          "text": [
            "[[131  55]\n",
            " [  1 191]]\n",
            "0.8518518518518519\n",
            "              precision    recall  f1-score   support\n",
            "\n",
            "           0       0.99      0.70      0.82       186\n",
            "           1       0.78      0.99      0.87       192\n",
            "\n",
            "    accuracy                           0.85       378\n",
            "   macro avg       0.88      0.85      0.85       378\n",
            "weighted avg       0.88      0.85      0.85       378\n",
            "\n"
          ],
          "name": "stdout"
        }
      ]
    },
    {
      "cell_type": "code",
      "metadata": {
        "colab": {
          "base_uri": "https://localhost:8080/",
          "height": 295
        },
        "id": "dHU1Ijnr_2eU",
        "outputId": "fac8cbb7-f793-40a4-fa6a-9f291854be52"
      },
      "source": [
        "from sklearn.metrics import confusion_matrix\n",
        "import pylab as pl\n",
        "cm = confusion_matrix(test['Label'], predictions)\n",
        "\n",
        "import seaborn as sns\n",
        "import matplotlib.pyplot as plt     \n",
        "\n",
        "ax= plt.subplot()\n",
        "sns.heatmap(cm, annot=True, fmt='g', ax=ax);  #annot=True to annotate cells, ftm='g' to disable scientific notation\n",
        "\n",
        "# labels, title and ticks\n",
        "ax.set_xlabel('Predicted labels');ax.set_ylabel('True labels'); \n",
        "ax.set_title('Confusion Matrix'); \n",
        "#ax.xaxis.set_ticklabels(['True', 'Predicted']); ax.yaxis.set_ticklabels(['True', 'Predicted']);"
      ],
      "execution_count": null,
      "outputs": [
        {
          "output_type": "display_data",
          "data": {
            "image/png": "[encoded data removed]",
            "text/plain": [
              "<Figure size 432x288 with 2 Axes>"
            ]
          },
          "metadata": {
            "tags": [],
            "needs_background": "light"
          }
        }
      ]
    },
    {
      "cell_type": "code",
      "metadata": {
        "id": "_-No0VmePOS9"
      },
      "source": [
        "tr = pd.DataFrame(trainDataset)"
      ],
      "execution_count": null,
      "outputs": []
    },
    {
      "cell_type": "markdown",
      "metadata": {
        "id": "HKPYAeSbV-0d"
      },
      "source": [
        "### LSTM"
      ]
    },
    {
      "cell_type": "code",
      "metadata": {
        "id": "1TOmixbXYaCc"
      },
      "source": [
        "df = pd.read_csv('Combined_News_DJIA.csv')"
      ],
      "execution_count": 9,
      "outputs": []
    },
    {
      "cell_type": "code",
      "metadata": {
        "id": "_tMl8tISYax9"
      },
      "source": [
        "#remove punctuation\n",
        "#apart from alphabets we will replace every character with blank\n",
        "data = df.iloc[:, 2:27]\n",
        "data.replace(\"[^a-zA-Z]\", \" \", regex=True, inplace=True)"
      ],
      "execution_count": 10,
      "outputs": []
    },
    {
      "cell_type": "code",
      "metadata": {
        "colab": {
          "base_uri": "https://localhost:8080/",
          "height": 717
        },
        "id": "UwL2RdgiYpM1",
        "outputId": "540671ca-993a-4555-cb20-54bf4146c808"
      },
      "source": [
        "#renaming column\n",
        "list1 = [i for i in range(25)]\n",
        "new_Index = [str(i) for i in list1]\n",
        "data.columns = new_Index\n",
        "data.head(5)"
      ],
      "execution_count": 11,
      "outputs": [
        {
          "output_type": "execute_result",
          "data": {
            "text/html": [
              "<div>\n",
              "<style scoped>\n",
              "    .dataframe tbody tr th:only-of-type {\n",
              "        vertical-align: middle;\n",
              "    }\n",
              "\n",
              "    .dataframe tbody tr th {\n",
              "        vertical-align: top;\n",
              "    }\n",
              "\n",
              "    .dataframe thead th {\n",
              "        text-align: right;\n",
              "    }\n",
              "</style>\n",
              "<table border=\"1\" class=\"dataframe\">\n",
              "  <thead>\n",
              "    <tr style=\"text-align: right;\">\n",
              "      <th></th>\n",
              "      <th>0</th>\n",
              "      <th>1</th>\n",
              "      <th>2</th>\n",
              "      <th>3</th>\n",
              "      <th>4</th>\n",
              "      <th>5</th>\n",
              "      <th>6</th>\n",
              "      <th>7</th>\n",
              "      <th>8</th>\n",
              "      <th>9</th>\n",
              "      <th>10</th>\n",
              "      <th>11</th>\n",
              "      <th>12</th>\n",
              "      <th>13</th>\n",
              "      <th>14</th>\n",
              "      <th>15</th>\n",
              "      <th>16</th>\n",
              "      <th>17</th>\n",
              "      <th>18</th>\n",
              "      <th>19</th>\n",
              "      <th>20</th>\n",
              "      <th>21</th>\n",
              "      <th>22</th>\n",
              "      <th>23</th>\n",
              "      <th>24</th>\n",
              "    </tr>\n",
              "  </thead>\n",
              "  <tbody>\n",
              "    <tr>\n",
              "      <th>0</th>\n",
              "      <td>b Georgia  downs two Russian warplanes  as cou...</td>\n",
              "      <td>b BREAKING  Musharraf to be impeached</td>\n",
              "      <td>b Russia Today  Columns of troops roll into So...</td>\n",
              "      <td>b Russian tanks are moving towards the capital...</td>\n",
              "      <td>b Afghan children raped with  impunity   U N  ...</td>\n",
              "      <td>b     Russian tanks have entered South Ossetia...</td>\n",
              "      <td>b Breaking  Georgia invades South Ossetia  Rus...</td>\n",
              "      <td>b The  enemy combatent  trials are nothing but...</td>\n",
              "      <td>b Georgian troops retreat from S  Osettain cap...</td>\n",
              "      <td>b Did the U S  Prep Georgia for War with Russia</td>\n",
              "      <td>b Rice Gives Green Light for Israel to Attack ...</td>\n",
              "      <td>b Announcing Class Action Lawsuit on Behalf of...</td>\n",
              "      <td>b So   Russia and Georgia are at war and the N...</td>\n",
              "      <td>b China tells Bush to stay out of other countr...</td>\n",
              "      <td>b Did World War III start today</td>\n",
              "      <td>b Georgia Invades South Ossetia   if Russia ge...</td>\n",
              "      <td>b Al Qaeda Faces Islamist Backlash</td>\n",
              "      <td>b Condoleezza Rice   The US would not act to p...</td>\n",
              "      <td>b This is a busy day   The European Union has ...</td>\n",
              "      <td>b Georgia will withdraw       soldiers from Ir...</td>\n",
              "      <td>b Why the Pentagon Thinks Attacking Iran is a ...</td>\n",
              "      <td>b Caucasus in crisis  Georgia invades South Os...</td>\n",
              "      <td>b Indian shoe manufactory    And again in a se...</td>\n",
              "      <td>b Visitors Suffering from Mental Illnesses Ban...</td>\n",
              "      <td>b No Help for Mexico s Kidnapping Surge</td>\n",
              "    </tr>\n",
              "    <tr>\n",
              "      <th>1</th>\n",
              "      <td>b Why wont America and Nato help us  If they w...</td>\n",
              "      <td>b Bush puts foot down on Georgian conflict</td>\n",
              "      <td>b Jewish Georgian minister  Thanks to Israeli ...</td>\n",
              "      <td>b Georgian army flees in disarray as Russians ...</td>\n",
              "      <td>b Olympic opening ceremony fireworks  faked</td>\n",
              "      <td>b What were the Mossad with fraudulent New Zea...</td>\n",
              "      <td>b Russia angered by Israeli military sale to G...</td>\n",
              "      <td>b An American citizen living in S Ossetia blam...</td>\n",
              "      <td>b Welcome To World War IV  Now In High Definit...</td>\n",
              "      <td>b Georgia s move  a mistake of monumental prop...</td>\n",
              "      <td>b Russia presses deeper into Georgia  U S  say...</td>\n",
              "      <td>b Abhinav Bindra wins first ever Individual Ol...</td>\n",
              "      <td>b  U S  ship heads for Arctic to define territ...</td>\n",
              "      <td>b Drivers in a Jerusalem taxi station threaten...</td>\n",
              "      <td>b The French Team is Stunned by Phelps and the...</td>\n",
              "      <td>b Israel and the US behind the Georgian aggres...</td>\n",
              "      <td>b  Do not believe TV  neither Russian nor Geor...</td>\n",
              "      <td>b Riots are still going on in Montreal  Canada...</td>\n",
              "      <td>b China to overtake US as largest manufacturer</td>\n",
              "      <td>b War in South Ossetia  PICS</td>\n",
              "      <td>b Israeli Physicians Group Condemns State Tort...</td>\n",
              "      <td>b  Russia has just beaten the United States ov...</td>\n",
              "      <td>b Perhaps  the  question about the Georgia   R...</td>\n",
              "      <td>b Russia is so much better at war</td>\n",
              "      <td>b So this is what it s come to  trading sex fo...</td>\n",
              "    </tr>\n",
              "    <tr>\n",
              "      <th>2</th>\n",
              "      <td>b Remember that adorable   year old who sang a...</td>\n",
              "      <td>b Russia  ends Georgia operation</td>\n",
              "      <td>b  If we had no sexual harassment we would hav...</td>\n",
              "      <td>b Al Qa eda is losing support in Iraq because ...</td>\n",
              "      <td>b Ceasefire in Georgia  Putin Outmaneuvers the...</td>\n",
              "      <td>b Why Microsoft and Intel tried to kill the XO...</td>\n",
              "      <td>b Stratfor  The Russo Georgian War and the Bal...</td>\n",
              "      <td>b I m Trying to Get a Sense of This Whole Geor...</td>\n",
              "      <td>b The US military was surprised by the timing ...</td>\n",
              "      <td>b U S  Beats War Drum as Iran Dumps the Dollar</td>\n",
              "      <td>b Gorbachev   Georgian military attacked the S...</td>\n",
              "      <td>b CNN use footage of Tskhinvali ruins to cover...</td>\n",
              "      <td>b Beginning a war as the Olympics were opening...</td>\n",
              "      <td>b    pyramids as large as the Luxor stacked in...</td>\n",
              "      <td>b The    Top Party Cities in the World</td>\n",
              "      <td>b U S  troops still in Georgia  did you know t...</td>\n",
              "      <td>b Why Russias response to Georgia was right</td>\n",
              "      <td>b Gorbachev accuses U S  of making a  serious ...</td>\n",
              "      <td>b Russia  Georgia  and NATO  Cold War Two</td>\n",
              "      <td>b Remember that adorable    year old who led y...</td>\n",
              "      <td>b War in Georgia  The Israeli connection</td>\n",
              "      <td>b All signs point to the US encouraging Georgi...</td>\n",
              "      <td>b Christopher King argues that the US and NATO...</td>\n",
              "      <td>b America  The New Mexico</td>\n",
              "      <td>b BBC NEWS   Asia Pacific   Extinction  by man...</td>\n",
              "    </tr>\n",
              "    <tr>\n",
              "      <th>3</th>\n",
              "      <td>b  U S  refuses Israel weapons to attack Iran ...</td>\n",
              "      <td>b When the president ordered to attack Tskhinv...</td>\n",
              "      <td>b  Israel clears troops who killed Reuters cam...</td>\n",
              "      <td>b Britain  s policy of being tough on drugs is...</td>\n",
              "      <td>b Body of    year old found in trunk  Latest  ...</td>\n",
              "      <td>b China has moved     million  quake survivors...</td>\n",
              "      <td>b Bush announces Operation Get All Up In Russi...</td>\n",
              "      <td>b Russian forces sink Georgian ships</td>\n",
              "      <td>b The commander of a Navy air reconnaissance s...</td>\n",
              "      <td>b     of CNN readers  Russia s actions in Geor...</td>\n",
              "      <td>b USA to send fleet into Black Sea to help Geo...</td>\n",
              "      <td>b US warns against Israeli plan to strike agai...</td>\n",
              "      <td>b In an intriguing cyberalliance  two Estonian...</td>\n",
              "      <td>b The CNN Effect  Georgia Schools Russia in In...</td>\n",
              "      <td>b Why Russias response to Georgia was right</td>\n",
              "      <td>b Elephants extinct by</td>\n",
              "      <td>b US humanitarian missions soon in Georgia   i...</td>\n",
              "      <td>b Georgia s DDOS came from US sources</td>\n",
              "      <td>b Russian convoy heads into Georgia  violating...</td>\n",
              "      <td>b Israeli defence minister  US against strike ...</td>\n",
              "      <td>b Gorbachev  We Had No Choice</td>\n",
              "      <td>b Witness  Russian forces head towards Tbilisi...</td>\n",
              "      <td>b  Quarter of Russians blame U S  for conflict...</td>\n",
              "      <td>b Georgian president  says US military will ta...</td>\n",
              "      <td>b       Nobel laureate Aleksander Solzhenitsyn...</td>\n",
              "    </tr>\n",
              "    <tr>\n",
              "      <th>4</th>\n",
              "      <td>b All the experts admit that we should legalis...</td>\n",
              "      <td>b War in South Osetia      pictures made by a ...</td>\n",
              "      <td>b Swedish wrestler Ara Abrahamian throws away ...</td>\n",
              "      <td>b Russia exaggerated the death toll in South O...</td>\n",
              "      <td>b Missile That Killed   Inside Pakistan May Ha...</td>\n",
              "      <td>b Rushdie Condemns Random House s Refusal to P...</td>\n",
              "      <td>b Poland and US agree to missle defense deal  ...</td>\n",
              "      <td>b Will the Russians conquer Tblisi  Bet on it ...</td>\n",
              "      <td>b Russia exaggerating South Ossetian death tol...</td>\n",
              "      <td>b  Musharraf expected to resign rather than fa...</td>\n",
              "      <td>b Moscow Made Plans Months Ago to Invade Georgia</td>\n",
              "      <td>b Why Russias response to Georgia was right</td>\n",
              "      <td>b Nigeria has handed over the potentially oil ...</td>\n",
              "      <td>b The US and Poland have agreed a preliminary ...</td>\n",
              "      <td>b Russia apparently is sabotaging infrastructu...</td>\n",
              "      <td>b Bank analyst forecast Georgian crisis   days...</td>\n",
              "      <td>b Georgia confict could set back Russia s US r...</td>\n",
              "      <td>b War in the Caucasus is as much the product o...</td>\n",
              "      <td>b  Non media  photos of South Ossetia Georgia ...</td>\n",
              "      <td>b Georgian TV reporter shot by Russian sniper ...</td>\n",
              "      <td>b Saudi Arabia  Mother moves to block child ma...</td>\n",
              "      <td>b Taliban wages war on humanitarian aid workers</td>\n",
              "      <td>b Russia  World   can forget about  Georgia  s...</td>\n",
              "      <td>b Darfur rebels accuse Sudan of mounting major...</td>\n",
              "      <td>b Philippines   Peace Advocate say Muslims nee...</td>\n",
              "    </tr>\n",
              "  </tbody>\n",
              "</table>\n",
              "</div>"
            ],
            "text/plain": [
              "                                                   0  ...                                                 24\n",
              "0  b Georgia  downs two Russian warplanes  as cou...  ...           b No Help for Mexico s Kidnapping Surge \n",
              "1  b Why wont America and Nato help us  If they w...  ...  b So this is what it s come to  trading sex fo...\n",
              "2  b Remember that adorable   year old who sang a...  ...  b BBC NEWS   Asia Pacific   Extinction  by man...\n",
              "3  b  U S  refuses Israel weapons to attack Iran ...  ...  b       Nobel laureate Aleksander Solzhenitsyn...\n",
              "4  b All the experts admit that we should legalis...  ...  b Philippines   Peace Advocate say Muslims nee...\n",
              "\n",
              "[5 rows x 25 columns]"
            ]
          },
          "metadata": {
            "tags": []
          },
          "execution_count": 11
        }
      ]
    },
    {
      "cell_type": "code",
      "metadata": {
        "colab": {
          "base_uri": "https://localhost:8080/",
          "height": 369
        },
        "id": "bVLdsaF_Y6Y3",
        "outputId": "e6515a92-010c-48fe-fe4b-2b81a4f04fac"
      },
      "source": [
        "#converting hadlines to lower case\n",
        "for index in new_Index:\n",
        "    data[index] = data[index].str.lower()\n",
        "data.head(2)"
      ],
      "execution_count": 12,
      "outputs": [
        {
          "output_type": "execute_result",
          "data": {
            "text/html": [
              "<div>\n",
              "<style scoped>\n",
              "    .dataframe tbody tr th:only-of-type {\n",
              "        vertical-align: middle;\n",
              "    }\n",
              "\n",
              "    .dataframe tbody tr th {\n",
              "        vertical-align: top;\n",
              "    }\n",
              "\n",
              "    .dataframe thead th {\n",
              "        text-align: right;\n",
              "    }\n",
              "</style>\n",
              "<table border=\"1\" class=\"dataframe\">\n",
              "  <thead>\n",
              "    <tr style=\"text-align: right;\">\n",
              "      <th></th>\n",
              "      <th>0</th>\n",
              "      <th>1</th>\n",
              "      <th>2</th>\n",
              "      <th>3</th>\n",
              "      <th>4</th>\n",
              "      <th>5</th>\n",
              "      <th>6</th>\n",
              "      <th>7</th>\n",
              "      <th>8</th>\n",
              "      <th>9</th>\n",
              "      <th>10</th>\n",
              "      <th>11</th>\n",
              "      <th>12</th>\n",
              "      <th>13</th>\n",
              "      <th>14</th>\n",
              "      <th>15</th>\n",
              "      <th>16</th>\n",
              "      <th>17</th>\n",
              "      <th>18</th>\n",
              "      <th>19</th>\n",
              "      <th>20</th>\n",
              "      <th>21</th>\n",
              "      <th>22</th>\n",
              "      <th>23</th>\n",
              "      <th>24</th>\n",
              "    </tr>\n",
              "  </thead>\n",
              "  <tbody>\n",
              "    <tr>\n",
              "      <th>0</th>\n",
              "      <td>b georgia  downs two russian warplanes  as cou...</td>\n",
              "      <td>b breaking  musharraf to be impeached</td>\n",
              "      <td>b russia today  columns of troops roll into so...</td>\n",
              "      <td>b russian tanks are moving towards the capital...</td>\n",
              "      <td>b afghan children raped with  impunity   u n  ...</td>\n",
              "      <td>b     russian tanks have entered south ossetia...</td>\n",
              "      <td>b breaking  georgia invades south ossetia  rus...</td>\n",
              "      <td>b the  enemy combatent  trials are nothing but...</td>\n",
              "      <td>b georgian troops retreat from s  osettain cap...</td>\n",
              "      <td>b did the u s  prep georgia for war with russia</td>\n",
              "      <td>b rice gives green light for israel to attack ...</td>\n",
              "      <td>b announcing class action lawsuit on behalf of...</td>\n",
              "      <td>b so   russia and georgia are at war and the n...</td>\n",
              "      <td>b china tells bush to stay out of other countr...</td>\n",
              "      <td>b did world war iii start today</td>\n",
              "      <td>b georgia invades south ossetia   if russia ge...</td>\n",
              "      <td>b al qaeda faces islamist backlash</td>\n",
              "      <td>b condoleezza rice   the us would not act to p...</td>\n",
              "      <td>b this is a busy day   the european union has ...</td>\n",
              "      <td>b georgia will withdraw       soldiers from ir...</td>\n",
              "      <td>b why the pentagon thinks attacking iran is a ...</td>\n",
              "      <td>b caucasus in crisis  georgia invades south os...</td>\n",
              "      <td>b indian shoe manufactory    and again in a se...</td>\n",
              "      <td>b visitors suffering from mental illnesses ban...</td>\n",
              "      <td>b no help for mexico s kidnapping surge</td>\n",
              "    </tr>\n",
              "    <tr>\n",
              "      <th>1</th>\n",
              "      <td>b why wont america and nato help us  if they w...</td>\n",
              "      <td>b bush puts foot down on georgian conflict</td>\n",
              "      <td>b jewish georgian minister  thanks to israeli ...</td>\n",
              "      <td>b georgian army flees in disarray as russians ...</td>\n",
              "      <td>b olympic opening ceremony fireworks  faked</td>\n",
              "      <td>b what were the mossad with fraudulent new zea...</td>\n",
              "      <td>b russia angered by israeli military sale to g...</td>\n",
              "      <td>b an american citizen living in s ossetia blam...</td>\n",
              "      <td>b welcome to world war iv  now in high definit...</td>\n",
              "      <td>b georgia s move  a mistake of monumental prop...</td>\n",
              "      <td>b russia presses deeper into georgia  u s  say...</td>\n",
              "      <td>b abhinav bindra wins first ever individual ol...</td>\n",
              "      <td>b  u s  ship heads for arctic to define territ...</td>\n",
              "      <td>b drivers in a jerusalem taxi station threaten...</td>\n",
              "      <td>b the french team is stunned by phelps and the...</td>\n",
              "      <td>b israel and the us behind the georgian aggres...</td>\n",
              "      <td>b  do not believe tv  neither russian nor geor...</td>\n",
              "      <td>b riots are still going on in montreal  canada...</td>\n",
              "      <td>b china to overtake us as largest manufacturer</td>\n",
              "      <td>b war in south ossetia  pics</td>\n",
              "      <td>b israeli physicians group condemns state tort...</td>\n",
              "      <td>b  russia has just beaten the united states ov...</td>\n",
              "      <td>b perhaps  the  question about the georgia   r...</td>\n",
              "      <td>b russia is so much better at war</td>\n",
              "      <td>b so this is what it s come to  trading sex fo...</td>\n",
              "    </tr>\n",
              "  </tbody>\n",
              "</table>\n",
              "</div>"
            ],
            "text/plain": [
              "                                                   0  ...                                                 24\n",
              "0  b georgia  downs two russian warplanes  as cou...  ...           b no help for mexico s kidnapping surge \n",
              "1  b why wont america and nato help us  if they w...  ...  b so this is what it s come to  trading sex fo...\n",
              "\n",
              "[2 rows x 25 columns]"
            ]
          },
          "metadata": {
            "tags": []
          },
          "execution_count": 12
        }
      ]
    },
    {
      "cell_type": "code",
      "metadata": {
        "colab": {
          "base_uri": "https://localhost:8080/",
          "height": 137
        },
        "id": "7jVbr97qY77z",
        "outputId": "ad0e3b49-66a6-4d56-eaf8-620945ca4089"
      },
      "source": [
        "#all the sentences in the form of list\n",
        "\n",
        "headlines = []\n",
        "for row in range(0, len(data.index)):\n",
        "    headlines.append(' '.join(str(x) for x in data.iloc[row, 0:25]))\n",
        "\n",
        "headlines[0]"
      ],
      "execution_count": 13,
      "outputs": [
        {
          "output_type": "execute_result",
          "data": {
            "application/vnd.google.colaboratory.intrinsic+json": {
              "type": "string"
            },
            "text/plain": [
              "'b georgia  downs two russian warplanes  as countries move to brink of war  b breaking  musharraf to be impeached   b russia today  columns of troops roll into south ossetia  footage from fighting  youtube   b russian tanks are moving towards the capital of south ossetia  which has reportedly been completely destroyed by georgian artillery fire  b afghan children raped with  impunity   u n  official says   this is sick  a three year old was raped and they do nothing  b     russian tanks have entered south ossetia whilst georgia shoots down two russian jets   b breaking  georgia invades south ossetia  russia warned it would intervene on so s side  b the  enemy combatent  trials are nothing but a sham  salim haman has been sentenced to       years  but will be kept longer anyway just because they feel like it   b georgian troops retreat from s  osettain capital  presumably leaving several hundred people killed   video   b did the u s  prep georgia for war with russia   b rice gives green light for israel to attack iran  says u s  has no veto over israeli military ops  b announcing class action lawsuit on behalf of american public against the fbi  b so   russia and georgia are at war and the nyt s top story is opening ceremonies of the olympics   what a fucking disgrace and yet further proof of the decline of journalism   b china tells bush to stay out of other countries  affairs  b did world war iii start today   b georgia invades south ossetia   if russia gets involved  will nato absorb georgia and unleash a full scale war   b al qaeda faces islamist backlash  b condoleezza rice   the us would not act to prevent an israeli strike on iran   israeli defense minister ehud barak   israel is prepared for uncompromising victory in the case of military hostilities    b this is a busy day   the european union has approved new sanctions against iran in protest at its nuclear programme   b georgia will withdraw       soldiers from iraq to help fight off russian forces in georgia s breakaway region of south ossetia  b why the pentagon thinks attacking iran is a bad idea   us news  amp  world report  b caucasus in crisis  georgia invades south ossetia  b indian shoe manufactory    and again in a series of  you do not like your work    b visitors suffering from mental illnesses banned from olympics  b no help for mexico s kidnapping surge '"
            ]
          },
          "metadata": {
            "tags": []
          },
          "execution_count": 13
        }
      ]
    },
    {
      "cell_type": "code",
      "metadata": {
        "id": "6yDPzKNMXuHX"
      },
      "source": [
        "from collections import Counter\n",
        "all_text2 = ' '.join(headlines)\n",
        "# create a list of words\n",
        "words = all_text2.split()\n",
        "# Count all the words using Counter Method\n",
        "count_words = Counter(words)\n",
        "\n",
        "total_words = len(words)\n",
        "sorted_words = count_words.most_common(total_words)"
      ],
      "execution_count": 14,
      "outputs": []
    },
    {
      "cell_type": "code",
      "metadata": {
        "colab": {
          "base_uri": "https://localhost:8080/"
        },
        "id": "fllYVJJ4Z6rl",
        "outputId": "b474d3d3-383c-487a-cf88-2d33de554826"
      },
      "source": [
        "count_words"
      ],
      "execution_count": 15,
      "outputs": [
        {
          "output_type": "execute_result",
          "data": {
            "text/plain": [
              "Counter({'b': 12036,\n",
              "         'georgia': 138,\n",
              "         'downs': 5,\n",
              "         'two': 1193,\n",
              "         'russian': 1223,\n",
              "         'warplanes': 44,\n",
              "         'as': 4419,\n",
              "         'countries': 538,\n",
              "         'move': 228,\n",
              "         'to': 26484,\n",
              "         'brink': 57,\n",
              "         'of': 23111,\n",
              "         'war': 1598,\n",
              "         'breaking': 97,\n",
              "         'musharraf': 7,\n",
              "         'be': 3219,\n",
              "         'impeached': 2,\n",
              "         'russia': 1709,\n",
              "         'today': 374,\n",
              "         'columns': 2,\n",
              "         'troops': 510,\n",
              "         'roll': 20,\n",
              "         'into': 1453,\n",
              "         'south': 961,\n",
              "         'ossetia': 38,\n",
              "         'footage': 124,\n",
              "         'from': 4423,\n",
              "         'fighting': 204,\n",
              "         'youtube': 86,\n",
              "         'tanks': 98,\n",
              "         'are': 3538,\n",
              "         'moving': 69,\n",
              "         'towards': 101,\n",
              "         'the': 32018,\n",
              "         'capital': 263,\n",
              "         'which': 769,\n",
              "         'has': 4685,\n",
              "         'reportedly': 138,\n",
              "         'been': 1815,\n",
              "         'completely': 60,\n",
              "         'destroyed': 128,\n",
              "         'by': 5150,\n",
              "         'georgian': 38,\n",
              "         'artillery': 43,\n",
              "         'fire': 518,\n",
              "         'afghan': 420,\n",
              "         'children': 775,\n",
              "         'raped': 193,\n",
              "         'with': 4604,\n",
              "         'impunity': 11,\n",
              "         'u': 1896,\n",
              "         'n': 610,\n",
              "         'official': 490,\n",
              "         'says': 2564,\n",
              "         'this': 1352,\n",
              "         'is': 6767,\n",
              "         'sick': 43,\n",
              "         'a': 16413,\n",
              "         'three': 629,\n",
              "         'year': 1603,\n",
              "         'old': 919,\n",
              "         'was': 2567,\n",
              "         'and': 12605,\n",
              "         'they': 2059,\n",
              "         'do': 449,\n",
              "         'nothing': 113,\n",
              "         'have': 3418,\n",
              "         'entered': 55,\n",
              "         'whilst': 6,\n",
              "         'shoots': 28,\n",
              "         'down': 875,\n",
              "         'jets': 116,\n",
              "         'invades': 7,\n",
              "         'warned': 186,\n",
              "         'it': 3657,\n",
              "         'would': 817,\n",
              "         'intervene': 24,\n",
              "         'on': 7910,\n",
              "         'so': 656,\n",
              "         's': 10523,\n",
              "         'side': 98,\n",
              "         'enemy': 46,\n",
              "         'combatent': 1,\n",
              "         'trials': 40,\n",
              "         'but': 1116,\n",
              "         'sham': 10,\n",
              "         'salim': 2,\n",
              "         'haman': 1,\n",
              "         'sentenced': 258,\n",
              "         'years': 1546,\n",
              "         'will': 2331,\n",
              "         'kept': 72,\n",
              "         'longer': 200,\n",
              "         'anyway': 13,\n",
              "         'just': 715,\n",
              "         'because': 578,\n",
              "         'feel': 76,\n",
              "         'like': 569,\n",
              "         'retreat': 15,\n",
              "         'osettain': 1,\n",
              "         'presumably': 3,\n",
              "         'leaving': 117,\n",
              "         'several': 159,\n",
              "         'hundred': 33,\n",
              "         'people': 1894,\n",
              "         'killed': 1330,\n",
              "         'video': 542,\n",
              "         'did': 273,\n",
              "         'prep': 2,\n",
              "         'for': 9618,\n",
              "         'rice': 36,\n",
              "         'gives': 140,\n",
              "         'green': 137,\n",
              "         'light': 111,\n",
              "         'israel': 2172,\n",
              "         'attack': 951,\n",
              "         'iran': 1349,\n",
              "         'no': 1383,\n",
              "         'veto': 19,\n",
              "         'over': 2583,\n",
              "         'israeli': 1323,\n",
              "         'military': 1129,\n",
              "         'ops': 13,\n",
              "         'announcing': 13,\n",
              "         'class': 108,\n",
              "         'action': 243,\n",
              "         'lawsuit': 76,\n",
              "         'behalf': 28,\n",
              "         'american': 552,\n",
              "         'public': 567,\n",
              "         'against': 1654,\n",
              "         'fbi': 90,\n",
              "         'at': 3450,\n",
              "         'nyt': 15,\n",
              "         'top': 550,\n",
              "         'story': 201,\n",
              "         'opening': 56,\n",
              "         'ceremonies': 6,\n",
              "         'olympics': 129,\n",
              "         'what': 820,\n",
              "         'fucking': 22,\n",
              "         'disgrace': 6,\n",
              "         'yet': 129,\n",
              "         'further': 104,\n",
              "         'proof': 53,\n",
              "         'decline': 57,\n",
              "         'journalism': 28,\n",
              "         'china': 2134,\n",
              "         'tells': 236,\n",
              "         'bush': 148,\n",
              "         'stay': 109,\n",
              "         'out': 1612,\n",
              "         'other': 658,\n",
              "         'affairs': 42,\n",
              "         'world': 2264,\n",
              "         'iii': 21,\n",
              "         'start': 161,\n",
              "         'if': 1053,\n",
              "         'gets': 272,\n",
              "         'involved': 111,\n",
              "         'nato': 361,\n",
              "         'absorb': 4,\n",
              "         'unleash': 8,\n",
              "         'full': 227,\n",
              "         'scale': 98,\n",
              "         'al': 646,\n",
              "         'qaeda': 174,\n",
              "         'faces': 215,\n",
              "         'islamist': 140,\n",
              "         'backlash': 33,\n",
              "         'condoleezza': 4,\n",
              "         'us': 3049,\n",
              "         'not': 2297,\n",
              "         'act': 181,\n",
              "         'prevent': 142,\n",
              "         'an': 2932,\n",
              "         'strike': 420,\n",
              "         'defense': 204,\n",
              "         'minister': 1065,\n",
              "         'ehud': 12,\n",
              "         'barak': 8,\n",
              "         'prepared': 64,\n",
              "         'uncompromising': 2,\n",
              "         'victory': 96,\n",
              "         'in': 23137,\n",
              "         'case': 397,\n",
              "         'hostilities': 8,\n",
              "         'busy': 15,\n",
              "         'day': 540,\n",
              "         'european': 599,\n",
              "         'union': 271,\n",
              "         'approved': 108,\n",
              "         'new': 2426,\n",
              "         'sanctions': 228,\n",
              "         'protest': 601,\n",
              "         'its': 2186,\n",
              "         'nuclear': 1001,\n",
              "         'programme': 58,\n",
              "         'withdraw': 51,\n",
              "         'soldiers': 437,\n",
              "         'iraq': 704,\n",
              "         'help': 436,\n",
              "         'fight': 357,\n",
              "         'off': 847,\n",
              "         'forces': 655,\n",
              "         'breakaway': 8,\n",
              "         'region': 191,\n",
              "         'why': 449,\n",
              "         'pentagon': 89,\n",
              "         'thinks': 27,\n",
              "         'attacking': 51,\n",
              "         'bad': 139,\n",
              "         'idea': 79,\n",
              "         'news': 1012,\n",
              "         'amp': 990,\n",
              "         'report': 885,\n",
              "         'caucasus': 13,\n",
              "         'crisis': 517,\n",
              "         'indian': 398,\n",
              "         'shoe': 43,\n",
              "         'manufactory': 1,\n",
              "         'again': 285,\n",
              "         'series': 86,\n",
              "         'you': 977,\n",
              "         'your': 245,\n",
              "         'work': 350,\n",
              "         'visitors': 27,\n",
              "         'suffering': 79,\n",
              "         'mental': 48,\n",
              "         'illnesses': 8,\n",
              "         'banned': 301,\n",
              "         'mexico': 584,\n",
              "         'kidnapping': 52,\n",
              "         'surge': 43,\n",
              "         'wont': 48,\n",
              "         'america': 291,\n",
              "         'now': 1151,\n",
              "         'we': 1217,\n",
              "         'them': 858,\n",
              "         'puts': 70,\n",
              "         'foot': 43,\n",
              "         'conflict': 200,\n",
              "         'jewish': 300,\n",
              "         'thanks': 54,\n",
              "         'training': 67,\n",
              "         're': 347,\n",
              "         'fending': 4,\n",
              "         'army': 594,\n",
              "         'flees': 30,\n",
              "         'disarray': 7,\n",
              "         'russians': 107,\n",
              "         'advance': 35,\n",
              "         'gori': 1,\n",
              "         'abandoned': 57,\n",
              "         'without': 461,\n",
              "         'shot': 399,\n",
              "         'fired': 158,\n",
              "         'olympic': 86,\n",
              "         'ceremony': 33,\n",
              "         'fireworks': 20,\n",
              "         'faked': 11,\n",
              "         'were': 1210,\n",
              "         'mossad': 60,\n",
              "         'fraudulent': 9,\n",
              "         'zealand': 235,\n",
              "         'passports': 53,\n",
              "         'doing': 116,\n",
              "         'angered': 26,\n",
              "         'sale': 92,\n",
              "         'citizen': 63,\n",
              "         'living': 194,\n",
              "         'blames': 60,\n",
              "         'leaders': 309,\n",
              "         'genocide': 156,\n",
              "         'innocent': 68,\n",
              "         'welcome': 60,\n",
              "         'iv': 3,\n",
              "         'high': 482,\n",
              "         'definition': 9,\n",
              "         'mistake': 50,\n",
              "         'monumental': 6,\n",
              "         'proportions': 8,\n",
              "         'presses': 13,\n",
              "         'deeper': 14,\n",
              "         'regime': 207,\n",
              "         'change': 423,\n",
              "         'goal': 43,\n",
              "         'abhinav': 1,\n",
              "         'bindra': 1,\n",
              "         'wins': 143,\n",
              "         'first': 1338,\n",
              "         'ever': 301,\n",
              "         'individual': 25,\n",
              "         'gold': 147,\n",
              "         'medal': 20,\n",
              "         'india': 928,\n",
              "         'ship': 285,\n",
              "         'heads': 72,\n",
              "         'arctic': 114,\n",
              "         'define': 6,\n",
              "         'territory': 113,\n",
              "         'drivers': 33,\n",
              "         'jerusalem': 185,\n",
              "         'taxi': 22,\n",
              "         'station': 144,\n",
              "         'threaten': 92,\n",
              "         'quit': 61,\n",
              "         'rather': 88,\n",
              "         'than': 1591,\n",
              "         'their': 1992,\n",
              "         'boss': 71,\n",
              "         'arab': 309,\n",
              "         'french': 654,\n",
              "         'team': 129,\n",
              "         'stunned': 18,\n",
              "         'phelps': 2,\n",
              "         'x': 90,\n",
              "         'm': 410,\n",
              "         'relay': 2,\n",
              "         'behind': 240,\n",
              "         'aggression': 29,\n",
              "         'believe': 152,\n",
              "         'tv': 242,\n",
              "         'neither': 26,\n",
              "         'nor': 34,\n",
              "         'there': 655,\n",
              "         'much': 315,\n",
              "         'more': 1771,\n",
              "         'victims': 240,\n",
              "         'riots': 154,\n",
              "         'still': 328,\n",
              "         'going': 260,\n",
              "         'montreal': 42,\n",
              "         'canada': 694,\n",
              "         'police': 1966,\n",
              "         'murdered': 120,\n",
              "         'boy': 174,\n",
              "         'saturday': 55,\n",
              "         'overtake': 8,\n",
              "         'largest': 394,\n",
              "         'manufacturer': 27,\n",
              "         'pics': 99,\n",
              "         'physicians': 6,\n",
              "         'group': 591,\n",
              "         'condemns': 93,\n",
              "         'state': 1252,\n",
              "         'torture': 275,\n",
              "         'beaten': 129,\n",
              "         'united': 540,\n",
              "         'states': 488,\n",
              "         'head': 303,\n",
              "         'peak': 24,\n",
              "         'oil': 888,\n",
              "         'perhaps': 33,\n",
              "         'question': 68,\n",
              "         'about': 1274,\n",
              "         'better': 121,\n",
              "         'come': 184,\n",
              "         'trading': 49,\n",
              "         'sex': 560,\n",
              "         'food': 451,\n",
              "         'remember': 67,\n",
              "         'that': 5098,\n",
              "         'adorable': 3,\n",
              "         'who': 2103,\n",
              "         'sang': 4,\n",
              "         'fake': 134,\n",
              "         'too': 331,\n",
              "         'ends': 92,\n",
              "         'operation': 156,\n",
              "         'had': 742,\n",
              "         'sexual': 206,\n",
              "         'harassment': 32,\n",
              "         'qa': 6,\n",
              "         'eda': 1,\n",
              "         'losing': 78,\n",
              "         'support': 367,\n",
              "         'brutal': 78,\n",
              "         'crackdown': 151,\n",
              "         'activities': 57,\n",
              "         'regards': 5,\n",
              "         'un': 1016,\n",
              "         'islamic': 587,\n",
              "         'including': 406,\n",
              "         'women': 871,\n",
              "         'buying': 73,\n",
              "         'cucumbers': 2,\n",
              "         'ceasefire': 60,\n",
              "         'putin': 553,\n",
              "         'outmaneuvers': 1,\n",
              "         'west': 496,\n",
              "         'microsoft': 56,\n",
              "         'intel': 31,\n",
              "         'tried': 163,\n",
              "         'kill': 447,\n",
              "         'xo': 1,\n",
              "         'laptop': 16,\n",
              "         'stratfor': 13,\n",
              "         'russo': 4,\n",
              "         'balance': 29,\n",
              "         'power': 594,\n",
              "         'i': 992,\n",
              "         'trying': 263,\n",
              "         'get': 467,\n",
              "         'sense': 37,\n",
              "         'whole': 78,\n",
              "         'vote': 290,\n",
              "         'up': 1715,\n",
              "         'think': 208,\n",
              "         'started': 110,\n",
              "         'or': 1035,\n",
              "         'surprised': 17,\n",
              "         'timing': 11,\n",
              "         'swiftness': 1,\n",
              "         'sort': 21,\n",
              "         'happened': 62,\n",
              "         'said': 1187,\n",
              "         'monday': 260,\n",
              "         'beats': 30,\n",
              "         'drum': 7,\n",
              "         'dumps': 11,\n",
              "         'dollar': 108,\n",
              "         'gorbachev': 26,\n",
              "         'attacked': 192,\n",
              "         'ossetian': 5,\n",
              "         'tskhinvali': 5,\n",
              "         'multiple': 54,\n",
              "         'rocket': 142,\n",
              "         'launchers': 15,\n",
              "         'designed': 34,\n",
              "         'devastate': 3,\n",
              "         'large': 186,\n",
              "         'areas': 85,\n",
              "         'cnn': 137,\n",
              "         'use': 605,\n",
              "         'ruins': 26,\n",
              "         'cover': 141,\n",
              "         'beginning': 58,\n",
              "         'violates': 37,\n",
              "         'ancient': 170,\n",
              "         'tradition': 27,\n",
              "         'truce': 38,\n",
              "         'during': 527,\n",
              "         'games': 85,\n",
              "         'ioc': 10,\n",
              "         'could': 960,\n",
              "         'respond': 48,\n",
              "         'taking': 217,\n",
              "         'away': 269,\n",
              "         'pyramids': 17,\n",
              "         'luxor': 7,\n",
              "         'stacked': 4,\n",
              "         'mega': 25,\n",
              "         'city': 649,\n",
              "         'pyramid': 20,\n",
              "         'tokyo': 90,\n",
              "         'bay': 176,\n",
              "         'party': 513,\n",
              "         'cities': 153,\n",
              "         'know': 236,\n",
              "         'place': 183,\n",
              "         'russias': 58,\n",
              "         'response': 139,\n",
              "         'right': 556,\n",
              "         'accuses': 120,\n",
              "         'making': 242,\n",
              "         'serious': 128,\n",
              "         'blunder': 4,\n",
              "         'pursuing': 10,\n",
              "         'interest': 92,\n",
              "         'cold': 87,\n",
              "         'led': 197,\n",
              "         'country': 1225,\n",
              "         'based': 158,\n",
              "         'evidence': 305,\n",
              "         'connection': 44,\n",
              "         'all': 1240,\n",
              "         'signs': 112,\n",
              "         'point': 91,\n",
              "         'encouraging': 18,\n",
              "         'invade': 28,\n",
              "         'goddamnit': 1,\n",
              "         'christopher': 21,\n",
              "         'king': 164,\n",
              "         'argues': 14,\n",
              "         'invasion': 97,\n",
              "         'misjudged': 1,\n",
              "         'resolve': 14,\n",
              "         'bbc': 521,\n",
              "         'asia': 130,\n",
              "         'pacific': 139,\n",
              "         'extinction': 62,\n",
              "         'man': 968,\n",
              "         'climate': 423,\n",
              "         'refuses': 129,\n",
              "         'weapons': 416,\n",
              "         'when': 615,\n",
              "         'president': 1428,\n",
              "         'ordered': 209,\n",
              "         'knew': 66,\n",
              "         'then': 267,\n",
              "         'doomed': 21,\n",
              "         'how': 700,\n",
              "         'he': 1482,\n",
              "         'didn': 99,\n",
              "         't': 1147,\n",
              "         'realize': 15,\n",
              "         'clears': 16,\n",
              "         'reuters': 132,\n",
              "         'cameraman': 13,\n",
              "         'britain': 493,\n",
              "         'policy': 243,\n",
              "         'being': 1021,\n",
              "         'tough': 46,\n",
              "         'drugs': 320,\n",
              "         'pointless': 9,\n",
              "         'former': 637,\n",
              "         'civil': 192,\n",
              "         'servant': 9,\n",
              "         'once': 166,\n",
              "         'ran': 34,\n",
              "         'cabinet': 89,\n",
              "         'anti': 825,\n",
              "         'unit': 66,\n",
              "         'body': 223,\n",
              "         'found': 988,\n",
              "         'trunk': 4,\n",
              "         'latest': 187,\n",
              "         'ransom': 21,\n",
              "         'paid': 149,\n",
              "         'victim': 150,\n",
              "         'cop': 45,\n",
              "         'quits': 41,\n",
              "         'prez': 4,\n",
              "         'dissolves': 11,\n",
              "         'suspect': 103,\n",
              "         'elite': 71,\n",
              "         'task': 5,\n",
              "         'force': 357,\n",
              "         'moved': 46,\n",
              "         'million': 921,\n",
              "         'quake': 102,\n",
              "         'survivors': 46,\n",
              "         'prefab': 1,\n",
              "         'homes': 199,\n",
              "         'announces': 123,\n",
              "         'grill': 1,\n",
              "         'yeah': 14,\n",
              "         'end': 515,\n",
              "         'well': 250,\n",
              "         'sink': 16,\n",
              "         'ships': 109,\n",
              "         'commander': 106,\n",
              "         'navy': 157,\n",
              "         'air': 498,\n",
              "         'reconnaissance': 7,\n",
              "         'squadron': 4,\n",
              "         'provides': 30,\n",
              "         'secretary': 120,\n",
              "         'airborne': 3,\n",
              "         'ability': 33,\n",
              "         'command': 22,\n",
              "         'nation': 252,\n",
              "         'relieved': 8,\n",
              "         'duty': 31,\n",
              "         'readers': 17,\n",
              "         'actions': 71,\n",
              "         'justified': 27,\n",
              "         'usa': 74,\n",
              "         'send': 155,\n",
              "         'fleet': 51,\n",
              "         'black': 224,\n",
              "         'sea': 396,\n",
              "         'humanitarian': 70,\n",
              "         'aid': 369,\n",
              "         'exercise': 38,\n",
              "         'warns': 362,\n",
              "         'plan': 347,\n",
              "         'facilities': 41,\n",
              "         'intriguing': 4,\n",
              "         'cyberalliance': 1,\n",
              "         'estonian': 6,\n",
              "         'computer': 96,\n",
              "         'experts': 164,\n",
              "         'heading': 39,\n",
              "         'keep': 187,\n",
              "         'networks': 42,\n",
              "         'running': 155,\n",
              "         'amid': 215,\n",
              "         'intense': 15,\n",
              "         'confrontation': 23,\n",
              "         'effect': 73,\n",
              "         'schools': 157,\n",
              "         'information': 208,\n",
              "         'warfare': 29,\n",
              "         'elephants': 74,\n",
              "         'extinct': 39,\n",
              "         'missions': 22,\n",
              "         'soon': 138,\n",
              "         'hits': 204,\n",
              "         'wwiii': 2,\n",
              "         'ddos': 19,\n",
              "         'came': 87,\n",
              "         'sources': 91,\n",
              "         'convoy': 35,\n",
              "         'violating': 30,\n",
              "         'defence': 114,\n",
              "         'choice': 36,\n",
              "         'witness': 48,\n",
              "         'tbilisi': 4,\n",
              "         'breach': 47,\n",
              "         'agreement': 127,\n",
              "         'quarter': 49,\n",
              "         'blame': 66,\n",
              "         'poll': 132,\n",
              "         'take': 472,\n",
              "         'control': 309,\n",
              "         'seaports': 1,\n",
              "         'airports': 33,\n",
              "         'denies': 114,\n",
              "         'nobel': 152,\n",
              "         'laureate': 23,\n",
              "         'aleksander': 2,\n",
              "         'solzhenitsyn': 1,\n",
              "         'encircling': 2,\n",
              "         'admit': 52,\n",
              "         'should': 565,\n",
              "         'legalise': 23,\n",
              "         'osetia': 1,\n",
              "         'pictures': 106,\n",
              "         'made': 415,\n",
              "         'soldier': 163,\n",
              "         'swedish': 218,\n",
              "         'wrestler': 2,\n",
              "         'ara': 1,\n",
              "         'abrahamian': 1,\n",
              "         'throws': 23,\n",
              "         'hissy': 1,\n",
              "         'fit': 16,\n",
              "         'exaggerated': 11,\n",
              "         'death': 976,\n",
              "         'toll': 117,\n",
              "         'only': 699,\n",
              "         'originally': 16,\n",
              "         'compared': 40,\n",
              "         'missile': 247,\n",
              "         'inside': 186,\n",
              "         'pakistan': 746,\n",
              "         'may': 884,\n",
              "         'launched': 127,\n",
              "         'cia': 295,\n",
              "         'rushdie': 5,\n",
              "         'random': 11,\n",
              "         'house': 273,\n",
              "         'refusal': 31,\n",
              "         'publish': 42,\n",
              "         'novel': 11,\n",
              "         'fear': 162,\n",
              "         'muslim': 519,\n",
              "         'retaliation': 34,\n",
              "         'poland': 155,\n",
              "         'agree': 82,\n",
              "         'missle': 4,\n",
              "         'deal': 390,\n",
              "         'interesting': 31,\n",
              "         'conquer': 4,\n",
              "         'tblisi': 1,\n",
              "         'bet': 21,\n",
              "         'seriously': 49,\n",
              "         'can': 837,\n",
              "         'exaggerating': 5,\n",
              "         'human': 819,\n",
              "         'rights': 863,\n",
              "         'expected': 150,\n",
              "         'resign': 77,\n",
              "         'face': 468,\n",
              "         'impeachment': 15,\n",
              "         'moscow': 265,\n",
              "         'plans': 427,\n",
              "         'months': 367,\n",
              "         'ago': 256,\n",
              "         'nigeria': 169,\n",
              "         'handed': 59,\n",
              "         'potentially': 50,\n",
              "         'rich': 164,\n",
              "         'bakassi': 1,\n",
              "         'peninsula': 27,\n",
              "         'cameroon': 23,\n",
              "         'agreed': 81,\n",
              "         'preliminary': 9,\n",
              "         'controversial': 163,\n",
              "         'shield': 43,\n",
              "         'apparently': 80,\n",
              "         'sabotaging': 7,\n",
              "         'infrastructure': 29,\n",
              "         'cripple': 6,\n",
              "         'already': 168,\n",
              "         'battered': 6,\n",
              "         'bank': 742,\n",
              "         'analyst': 18,\n",
              "         'forecast': 12,\n",
              "         'days': 406,\n",
              "         'early': 104,\n",
              "         'confict': 1,\n",
              "         'set': 465,\n",
              "         'back': 556,\n",
              "         'relations': 71,\n",
              "         'guardian': 132,\n",
              "         'co': 157,\n",
              "         'uk': 1434,\n",
              "         'product': 25,\n",
              "         'imperial': 9,\n",
              "         'drive': 85,\n",
              "         'local': 215,\n",
              "         'conflicts': 18,\n",
              "         'non': 170,\n",
              "         'media': 463,\n",
              "         'photos': 163,\n",
              "         'reporter': 83,\n",
              "         'sniper': 31,\n",
              "         'live': 328,\n",
              "         'broadcast': 27,\n",
              "         'saudi': 788,\n",
              "         'arabia': 408,\n",
              "         'mother': 149,\n",
              "         'moves': 98,\n",
              "         'block': 176,\n",
              "         'child': 479,\n",
              "         'marriage': 211,\n",
              "         'taliban': 343,\n",
              "         'wages': 44,\n",
              "         'workers': 474,\n",
              "         'forget': 44,\n",
              "         'territorial': 23,\n",
              "         'integrity': 15,\n",
              "         'darfur': 41,\n",
              "         'rebels': 363,\n",
              "         'accuse': 37,\n",
              "         'sudan': 139,\n",
              "         'mounting': 30,\n",
              "         'major': 335,\n",
              "         'philippines': 128,\n",
              "         'peace': 359,\n",
              "         'advocate': 8,\n",
              "         'say': 852,\n",
              "         'muslims': 290,\n",
              "         'need': 213,\n",
              "         'assurance': 2,\n",
              "         'christians': 153,\n",
              "         'convert': 26,\n",
              "         'mom': 17,\n",
              "         'missing': 245,\n",
              "         'gay': 446,\n",
              "         'cheerleader': 2,\n",
              "         'd': 131,\n",
              "         'looking': 77,\n",
              "         'him': 485,\n",
              "         'won': 211,\n",
              "         'go': 379,\n",
              "         'unpunished': 2,\n",
              "         'government': 2077,\n",
              "         'accused': 419,\n",
              "         'creating': 71,\n",
              "         'laws': 305,\n",
              "         'chilling': 24,\n",
              "         'freedom': 230,\n",
              "         'expression': 42,\n",
              "         'critical': 54,\n",
              "         'committee': 82,\n",
              "         'italian': 184,\n",
              "         'lashed': 13,\n",
              "         'influential': 19,\n",
              "         'catholic': 221,\n",
              "         'magazine': 50,\n",
              "         'suggested': 31,\n",
              "         'fascism': 23,\n",
              "         'might': 130,\n",
              "         'resurfacing': 1,\n",
              "         'within': 220,\n",
              "         'fakes': 7,\n",
              "         'girlfriend': 16,\n",
              "         'ethnic': 85,\n",
              "         'minority': 49,\n",
              "         'criticism': 95,\n",
              "         'valid': 6,\n",
              "         'general': 250,\n",
              "         'threatens': 236,\n",
              "         'demands': 136,\n",
              "         'withdraws': 22,\n",
              "         'inspect': 5,\n",
              "         'polish': 92,\n",
              "         'site': 218,\n",
              "         'fueled': 14,\n",
              "         'rush': 21,\n",
              "         'caspian': 7,\n",
              "         'energy': 350,\n",
              "         'resources': 73,\n",
              "         'business': 175,\n",
              "         'week': 364,\n",
              "         'edge': 26,\n",
              "         'struggle': 51,\n",
              "         'access': 225,\n",
              "         'billion': 604,\n",
              "         'barrels': 13,\n",
              "         'trillions': 11,\n",
              "         'cubic': 11,\n",
              "         'feet': 42,\n",
              "         'gas': 345,\n",
              "         'under': 702,\n",
              "         'soviet': 119,\n",
              "         'rule': 119,\n",
              "         'word': 52,\n",
              "         'our': 449,\n",
              "         'own': 408,\n",
              "         'propaganda': 106,\n",
              "         'learnt': 7,\n",
              "         'powerful': 122,\n",
              "         'ministers': 72,\n",
              "         'building': 242,\n",
              "         'national': 419,\n",
              "         'dna': 92,\n",
              "         'database': 45,\n",
              "         'stealth': 29,\n",
              "         'retaining': 3,\n",
              "         'profiles': 5,\n",
              "         'nearly': 296,\n",
              "         'never': 222,\n",
              "         'convicted': 170,\n",
              "         'crime': 266,\n",
              "         'regaining': 1,\n",
              "         'provinces': 6,\n",
              "         'seize': 99,\n",
              "         'depot': 6,\n",
              "         'redditors': 15,\n",
              "         'generally': 11,\n",
              "         'supportive': 2,\n",
              "         'americas': 37,\n",
              "         'johann': 4,\n",
              "         'hari': 6,\n",
              "         'stop': 456,\n",
              "         'such': 220,\n",
              "         'cowards': 5,\n",
              "         'islam': 225,\n",
              "         'officials': 601,\n",
              "         'presence': 54,\n",
              "         'become': 314,\n",
              "         'permanent': 36,\n",
              "         'unenforceable': 2,\n",
              "         'encourage': 19,\n",
              "         'cops': 74,\n",
              "         'escalate': 13,\n",
              "         'tactics': 24,\n",
              "         'until': 139,\n",
              "         'tragedy': 29,\n",
              "         'occurs': 6,\n",
              "         'chinese': 968,\n",
              "         'pollution': 136,\n",
              "         'really': 116,\n",
              "         'looks': 68,\n",
              "         'hacker': 48,\n",
              "         'kidnaps': 19,\n",
              "         'tortures': 2,\n",
              "         'informant': 18,\n",
              "         'posts': 53,\n",
              "         'picture': 80,\n",
              "         'warning': 210,\n",
              "         'others': 181,\n",
              "         'stand': 109,\n",
              "         'pipelines': 8,\n",
              "         'rivals': 26,\n",
              "         'remove': 107,\n",
              "         'prison': 459,\n",
              "         'majority': 109,\n",
              "         'female': 260,\n",
              "         'prisoners': 132,\n",
              "         'serving': 35,\n",
              "         'sentences': 88,\n",
              "         'rape': 340,\n",
              "         'little': 136,\n",
              "         'girl': 362,\n",
              "         'ugly': 22,\n",
              "         'leave': 228,\n",
              "         'tornado': 9,\n",
              "         'bus': 125,\n",
              "         'captured': 128,\n",
              "         'one': 1416,\n",
              "         'passengers': 92,\n",
              "         'terror': 327,\n",
              "         'left': 286,\n",
              "         'me': 185,\n",
              "         'my': 269,\n",
              "         'family': 356,\n",
              "         'shattered': 5,\n",
              "         'fires': 131,\n",
              "         'satellite': 116,\n",
              "         'space': 211,\n",
              "         'restricted': 17,\n",
              "         'maldives': 15,\n",
              "         'constitution': 62,\n",
              "         'tour': 25,\n",
              "         'undercuts': 4,\n",
              "         'version': 55,\n",
              "         'great': 231,\n",
              "         'resource': 13,\n",
              "         'underway': 25,\n",
              "         'mainly': 28,\n",
              "         'middle': 269,\n",
              "         'east': 403,\n",
              "         'also': 304,\n",
              "         'smaller': 16,\n",
              "         'skirmishes': 4,\n",
              "         'scattered': 4,\n",
              "         'around': 320,\n",
              "         'disguised': 22,\n",
              "         'many': 457,\n",
              "         'global': 610,\n",
              "         'contractors': 23,\n",
              "         'working': 202,\n",
              "         'ss': 12,\n",
              "         'missiles': 149,\n",
              "         'resigning': 5,\n",
              "         'avoid': 105,\n",
              "         'battle': 161,\n",
              "         'harm': 52,\n",
              "         'interests': 51,\n",
              "         'democratic': 73,\n",
              "         'shuts': 62,\n",
              "         'opposition': 285,\n",
              "         'channel': 79,\n",
              "         'owned': 71,\n",
              "         'option': 27,\n",
              "         'parliamentarian': 6,\n",
              "         'situation': 98,\n",
              "         'continues': 99,\n",
              "         'quest': 18,\n",
              "         'prize': 159,\n",
              "         'money': 366,\n",
              "         'mi': 87,\n",
              "         'seeks': 115,\n",
              "         'spies': 72,\n",
              "         'porn': 124,\n",
              "         'lets': 30,\n",
              "         'canadians': 97,\n",
              "         'strut': 1,\n",
              "         'stuff': 14,\n",
              "         'dangerous': 127,\n",
              "         'neighbor': 10,\n",
              "         'vladimir': 180,\n",
              "         'takes': 178,\n",
              "         'powerless': 8,\n",
              "         'opinion': 52,\n",
              "         'page': 61,\n",
              "         'saner': 3,\n",
              "         'hour': 112,\n",
              "         'saakashvili': 7,\n",
              "         'eats': 6,\n",
              "         'his': 1741,\n",
              "         'tie': 6,\n",
              "         'chicken': 18,\n",
              "         'animal': 80,\n",
              "         'rfid': 2,\n",
              "         'surveillance': 291,\n",
              "         'arrives': 22,\n",
              "         'given': 182,\n",
              "         'order': 212,\n",
              "         'everyone': 88,\n",
              "         'must': 381,\n",
              "         'grows': 57,\n",
              "         'genes': 12,\n",
              "         'mayor': 146,\n",
              "         'asks': 130,\n",
              "         'visit': 151,\n",
              "         'town': 221,\n",
              "         'arrested': 576,\n",
              "         'locked': 44,\n",
              "         'five': 401,\n",
              "         'hours': 268,\n",
              "         'after': 3000,\n",
              "         'photo': 72,\n",
              "         'van': 32,\n",
              "         'ignoring': 23,\n",
              "         'entry': 55,\n",
              "         'sign': 183,\n",
              "         'system': 325,\n",
              "         'magic': 15,\n",
              "         'pudding': 1,\n",
              "         'run': 291,\n",
              "         'schrder': 2,\n",
              "         'lambasted': 4,\n",
              "         'blaming': 24,\n",
              "         'near': 398,\n",
              "         'kabul': 47,\n",
              "         'these': 186,\n",
              "         'ten': 67,\n",
              "         'make': 432,\n",
              "         'totalitarian': 7,\n",
              "         'wasteland': 3,\n",
              "         'seizes': 56,\n",
              "         'vehicles': 74,\n",
              "         'denmark': 113,\n",
              "         ...})"
            ]
          },
          "metadata": {
            "tags": []
          },
          "execution_count": 15
        }
      ]
    },
    {
      "cell_type": "code",
      "metadata": {
        "id": "M4vnGUK-aDmm"
      },
      "source": [
        "vocab_to_int = {w:i+1 for i, (w,c) in enumerate(sorted_words)}"
      ],
      "execution_count": 16,
      "outputs": []
    },
    {
      "cell_type": "code",
      "metadata": {
        "colab": {
          "base_uri": "https://localhost:8080/"
        },
        "id": "ZNvkL6KEaMpE",
        "outputId": "3ea4e22f-5504-4631-95c0-bc89862032eb"
      },
      "source": [
        "len(vocab_to_int)"
      ],
      "execution_count": 17,
      "outputs": [
        {
          "output_type": "execute_result",
          "data": {
            "text/plain": [
              "33271"
            ]
          },
          "metadata": {
            "tags": []
          },
          "execution_count": 17
        }
      ]
    },
    {
      "cell_type": "code",
      "metadata": {
        "colab": {
          "base_uri": "https://localhost:8080/"
        },
        "id": "9HJFoJPMaZG4",
        "outputId": "9e61cece-7aa7-445f-f073-07392c25f240"
      },
      "source": [
        "headlines_int = []\n",
        "for h in headlines:\n",
        "    r = [vocab_to_int[w] for w in h.split()]\n",
        "    headlines_int.append(r)\n",
        "print (headlines_int[0:3])"
      ],
      "execution_count": 18,
      "outputs": [
        {
          "output_type": "stream",
          "text": [
            "[[7, 934, 10351, 74, 70, 2640, 17, 202, 536, 2, 2152, 4, 51, 7, 1330, 8736, 2, 22, 15484, 7, 47, 304, 15485, 4, 213, 4668, 55, 95, 2953, 1048, 16, 616, 1508, 7, 70, 1314, 19, 1848, 1268, 1, 467, 4, 95, 2953, 125, 14, 935, 43, 2057, 1016, 12, 2954, 2689, 209, 7, 267, 124, 650, 15, 6729, 41, 162, 218, 28, 60, 11, 2690, 5, 158, 50, 102, 27, 650, 6, 38, 245, 1148, 7, 70, 1314, 21, 2226, 95, 2953, 9422, 934, 3684, 107, 74, 70, 1117, 7, 1330, 934, 8737, 95, 2953, 47, 674, 18, 119, 4133, 10, 147, 8, 1315, 7, 1, 2554, 19855, 2852, 19, 1148, 79, 5, 7148, 15486, 19856, 14, 43, 476, 2, 53, 79, 30, 22, 1767, 630, 6115, 131, 178, 38, 1680, 181, 18, 7, 2954, 213, 5606, 16, 8, 19857, 467, 13135, 1107, 803, 3249, 42, 63, 199, 7, 440, 1, 41, 8, 15487, 934, 9, 51, 15, 47, 7, 3074, 921, 940, 1164, 9, 34, 2, 98, 61, 28, 41, 8, 14, 59, 4806, 26, 64, 78, 6116, 7, 6117, 1192, 503, 1681, 10, 3685, 4, 193, 183, 48, 1, 1434, 7, 147, 47, 6, 934, 19, 20, 51, 6, 1, 5607, 8, 195, 626, 11, 2190, 9423, 4, 1, 1005, 117, 5, 4367, 9424, 6, 1006, 1228, 2297, 4, 1, 2153, 4, 3686, 7, 35, 517, 873, 2, 1183, 49, 4, 145, 202, 2748, 7, 440, 32, 51, 4511, 798, 304, 7, 934, 8737, 95, 2953, 81, 47, 444, 1165, 30, 318, 11580, 934, 6, 8128, 5, 544, 1316, 51, 7, 153, 732, 580, 922, 3250, 7, 11581, 3074, 1, 23, 119, 31, 706, 2, 905, 25, 64, 268, 10, 61, 64, 617, 80, 6405, 8129, 34, 11, 1960, 9, 15488, 1348, 3, 1, 289, 4, 78, 8130, 7, 60, 11, 5, 5608, 200, 1, 169, 450, 14, 1193, 29, 537, 48, 61, 3, 167, 20, 33, 87, 2111, 7, 934, 30, 2371, 253, 16, 132, 2, 254, 320, 113, 70, 148, 3, 934, 8, 8131, 658, 4, 95, 2953, 7, 246, 1, 1453, 3790, 2372, 61, 11, 5, 927, 1629, 23, 86, 89, 32, 104, 7, 6118, 3, 210, 934, 8737, 95, 2953, 7, 287, 2691, 19858, 6, 425, 3, 5, 1509, 4, 91, 245, 31, 181, 497, 328, 7, 3791, 1630, 16, 2472, 8132, 395, 16, 1005, 7, 59, 254, 9, 177, 8, 2324, 2692], [7, 246, 2473, 410, 6, 318, 254, 23, 81, 38, 2473, 254, 23, 76, 246, 440, 71, 254, 111, 3, 132, 7, 873, 1826, 2693, 107, 10, 2954, 631, 7, 397, 2954, 80, 2252, 2, 64, 1892, 71, 331, 11582, 113, 47, 7, 2954, 171, 3491, 3, 8738, 17, 1201, 3127, 19859, 2154, 2, 47, 236, 5, 286, 808, 7, 1510, 2190, 3251, 4669, 6730, 7, 117, 73, 1, 2058, 15, 7592, 29, 522, 2298, 1118, 3, 132, 7, 47, 3907, 12, 64, 78, 1405, 2, 934, 7, 25, 193, 1989, 647, 3, 8, 2953, 2059, 41, 8, 6, 2954, 384, 9, 1, 822, 4, 1872, 42, 7, 2060, 2, 32, 51, 13136, 76, 3, 223, 7593, 7, 934, 8, 536, 5, 2405, 4, 9425, 8133, 7, 47, 6119, 5859, 55, 934, 41, 8, 28, 611, 264, 11, 2694, 7, 19860, 19861, 896, 62, 396, 4023, 1510, 875, 4670, 9, 99, 7, 41, 8, 426, 1768, 9, 1138, 2, 9426, 1149, 7, 3252, 3, 5, 680, 4368, 893, 1406, 2, 2036, 1471, 52, 328, 9, 39, 29, 1793, 25, 385, 7, 1, 150, 1007, 11, 4984, 12, 15489, 6, 1, 1435, 276, 15490, 1007, 7, 34, 6, 1, 23, 510, 1, 2954, 3588, 7, 245, 31, 844, 505, 3908, 70, 3192, 2954, 149, 19, 378, 44, 511, 7, 834, 19, 357, 471, 10, 3, 2749, 139, 178, 40, 1079, 5, 733, 10, 2227, 7, 35, 2, 8134, 23, 17, 294, 3792, 7, 51, 3, 95, 2953, 1299, 7, 64, 9427, 174, 1388, 67, 438, 7, 47, 14, 131, 1008, 1, 201, 220, 26, 1, 393, 15, 4134, 103, 7, 3253, 1, 1873, 65, 1, 934, 47, 631, 7, 47, 11, 147, 378, 1071, 20, 51, 7, 147, 60, 11, 117, 18, 8, 684, 2, 2438, 188, 9, 244], [7, 1893, 13, 13137, 50, 102, 36, 11583, 20, 1, 2190, 9423, 13, 27, 958, 354, 7, 47, 1407, 934, 823, 7, 81, 71, 128, 59, 613, 3331, 71, 119, 21, 59, 124, 7, 153, 9428, 19862, 11, 1648, 307, 3, 132, 178, 4, 5, 1649, 851, 10, 2155, 18, 10352, 17, 85, 175, 282, 108, 1745, 15491, 7, 2061, 3, 934, 192, 19863, 1, 216, 7, 246, 2191, 6, 3410, 782, 2, 249, 1, 19864, 5353, 7, 6120, 1, 11584, 2954, 51, 6, 1, 3589, 4, 172, 7, 88, 276, 468, 2, 232, 5, 3020, 4, 60, 1650, 934, 47, 51, 413, 46, 81, 91, 608, 934, 1173, 18, 82, 107, 81, 91, 608, 47, 440, 7, 1, 23, 78, 27, 5155, 12, 1, 6731, 6, 19865, 4, 1, 70, 78, 8, 536, 55, 95, 2953, 6, 11, 357, 468, 2, 4512, 49, 117, 2010, 5, 23, 617, 218, 75, 472, 7, 41, 8, 3492, 51, 8739, 17, 61, 6732, 1, 1194, 7, 3909, 2954, 78, 653, 1, 95, 10353, 467, 4, 10354, 15, 2253, 906, 5609, 3193, 2, 13138, 675, 1525, 7, 941, 165, 1048, 4, 10354, 3910, 2, 915, 2954, 104, 199, 7, 2112, 5, 51, 17, 1, 1005, 73, 2190, 3021, 1, 744, 3793, 4, 5, 2955, 2, 631, 204, 1, 1526, 1, 7149, 96, 2474, 12, 571, 1, 1526, 452, 16, 47, 7, 5156, 17, 675, 17, 1, 8740, 11585, 55, 5, 4024, 152, 4671, 3, 1436, 726, 7, 1, 195, 212, 839, 3, 1, 32, 7, 41, 8, 213, 357, 3, 934, 440, 91, 518, 38, 73, 3, 934, 3, 1, 62, 690, 7, 246, 2113, 928, 2, 934, 27, 189, 7, 3909, 1080, 41, 8, 4, 506, 5, 1017, 11586, 3, 7150, 33, 1408, 3, 1, 6118, 658, 7, 47, 934, 6, 318, 1488, 51, 74, 7, 1893, 13, 13137, 50, 102, 36, 642, 497, 69, 55, 51, 809, 10, 390, 13, 27, 958, 354, 7, 51, 3, 934, 1, 64, 2641, 7, 68, 1154, 1421, 2, 1, 23, 4985, 934, 2, 3687, 95, 2953, 19866, 873, 7, 4513, 775, 5860, 13, 1, 23, 6, 318, 19, 510, 1, 2954, 1331, 4, 95, 2953, 79, 21, 19867, 70, 5861, 7, 410, 1, 29, 177, 7, 207, 86, 998, 929, 2011, 12, 93, 31, 265]]\n"
          ],
          "name": "stdout"
        }
      ]
    },
    {
      "cell_type": "code",
      "metadata": {
        "colab": {
          "base_uri": "https://localhost:8080/"
        },
        "id": "GHnABlSbas2N",
        "outputId": "65715ff8-0cce-4574-f8e7-55ad663f417d"
      },
      "source": [
        "encoded_labels = np.array(df['Label'])\n",
        "encoded_labels"
      ],
      "execution_count": 19,
      "outputs": [
        {
          "output_type": "execute_result",
          "data": {
            "text/plain": [
              "array([0, 1, 0, ..., 1, 1, 1])"
            ]
          },
          "metadata": {
            "tags": []
          },
          "execution_count": 19
        }
      ]
    },
    {
      "cell_type": "code",
      "metadata": {
        "colab": {
          "base_uri": "https://localhost:8080/",
          "height": 418
        },
        "id": "tW8qgfF0bD-6",
        "outputId": "bbd4f519-503b-4066-a74c-8b6e06131243"
      },
      "source": [
        "import pandas as pd\n",
        "import matplotlib.pyplot as plt\n",
        "%matplotlib inline\n",
        "headlines_len = [len(x) for x in headlines_int]\n",
        "pd.Series(headlines_len).hist()\n",
        "plt.show()\n",
        "pd.Series(headlines_len).describe()"
      ],
      "execution_count": 20,
      "outputs": [
        {
          "output_type": "display_data",
          "data": {
            "image/png": "[encoded data removed]",
            "text/plain": [
              "<Figure size 432x288 with 1 Axes>"
            ]
          },
          "metadata": {
            "tags": [],
            "needs_background": "light"
          }
        },
        {
          "output_type": "execute_result",
          "data": {
            "text/plain": [
              "count    1989.000000\n",
              "mean      448.945701\n",
              "std        70.551814\n",
              "min       245.000000\n",
              "25%       399.000000\n",
              "50%       449.000000\n",
              "75%       497.000000\n",
              "max       750.000000\n",
              "dtype: float64"
            ]
          },
          "metadata": {
            "tags": []
          },
          "execution_count": 20
        }
      ]
    },
    {
      "cell_type": "code",
      "metadata": {
        "colab": {
          "base_uri": "https://localhost:8080/"
        },
        "id": "irfWmr4ubSgf",
        "outputId": "92dc34b9-5450-41f5-f42e-224346dc8cb4"
      },
      "source": [
        "len(headlines_int)"
      ],
      "execution_count": 21,
      "outputs": [
        {
          "output_type": "execute_result",
          "data": {
            "text/plain": [
              "1989"
            ]
          },
          "metadata": {
            "tags": []
          },
          "execution_count": 21
        }
      ]
    },
    {
      "cell_type": "code",
      "metadata": {
        "id": "oPQRCjARbxVk"
      },
      "source": [
        "headlines_int = [ headlines_int[i] for i, l in enumerate(headlines_len) if l>0 ]\n",
        "encoded_labels = [ encoded_labels[i] for i, l in enumerate(headlines_len) if l> 0 ]"
      ],
      "execution_count": 22,
      "outputs": []
    },
    {
      "cell_type": "code",
      "metadata": {
        "id": "-n8yU7fRb6Yj"
      },
      "source": [
        "def pad_features(headlines_int, seq_length):\n",
        "    ''' Return features of review_ints, where each review is padded with 0's or truncated to the input seq_length.\n",
        "    '''\n",
        "    features = np.zeros((len(headlines_int), seq_length), dtype = int)\n",
        "    \n",
        "    for i, headline in enumerate(headlines_int):\n",
        "        headline_len = len(headline)\n",
        "        \n",
        "        if headline_len <= seq_length:\n",
        "            zeroes = list(np.zeros(seq_length-headline_len))\n",
        "            new = zeroes+headline\n",
        "        elif headline_len > seq_length:\n",
        "            new = headline[0:seq_length]\n",
        "        \n",
        "        features[i,:] = np.array(new)\n",
        "    \n",
        "    return features"
      ],
      "execution_count": 23,
      "outputs": []
    },
    {
      "cell_type": "code",
      "metadata": {
        "id": "9_hFNlTlc_Vm"
      },
      "source": [
        "features = pad_features(headlines_int,100)"
      ],
      "execution_count": 24,
      "outputs": []
    },
    {
      "cell_type": "code",
      "metadata": {
        "id": "FzxvHLjxdTu1"
      },
      "source": [
        "print(features[0:10])"
      ],
      "execution_count": null,
      "outputs": []
    },
    {
      "cell_type": "code",
      "metadata": {
        "id": "fvKih5DKdWlr"
      },
      "source": [
        "split_frac = 0.8\n",
        "len_feat = len(features)\n",
        "train_x = np.array(features[0:int(split_frac*len_feat)])\n",
        "train_y = np.array(encoded_labels[0:int(split_frac*len_feat)])\n",
        "remaining_x = np.array(features[int(split_frac*len_feat):])\n",
        "remaining_y = np.array(encoded_labels[int(split_frac*len_feat):])\n",
        "valid_x = np.array(remaining_x[0:int(len(remaining_x)*0.5)])\n",
        "valid_y = np.array(remaining_y[0:int(len(remaining_y)*0.5)])\n",
        "test_x = np.array(remaining_x[int(len(remaining_x)*0.5):])\n",
        "test_y = np.array(remaining_y[int(len(remaining_y)*0.5):])"
      ],
      "execution_count": 26,
      "outputs": []
    },
    {
      "cell_type": "code",
      "metadata": {
        "id": "RRJ9R1uNGkil"
      },
      "source": [
        "import tensorflow as tf"
      ],
      "execution_count": 27,
      "outputs": []
    },
    {
      "cell_type": "code",
      "metadata": {
        "id": "Logs22D-WG1T"
      },
      "source": [
        "from keras.models import Sequential\n",
        "from keras import regularizers\n",
        "from keras.layers import Dense, Embedding, LSTM, SpatialDropout1D, Bidirectional, Dropout"
      ],
      "execution_count": 28,
      "outputs": []
    },
    {
      "cell_type": "code",
      "metadata": {
        "colab": {
          "base_uri": "https://localhost:8080/"
        },
        "id": "cdrTMeK6WJU3",
        "outputId": "3d30b4b9-6f98-4f53-b0e6-725698eb3b9d"
      },
      "source": [
        "embed_dim = 8\n",
        "\n",
        "model = Sequential()\n",
        "model.add(Embedding(input_dim=len(vocab_to_int),\n",
        "        output_dim=8,\n",
        "        # Use masking to handle the variable sequence lengths\n",
        "        mask_zero=True))\n",
        "model.add(Bidirectional(LSTM(8)))\n",
        "model.add(Dropout(0.5))\n",
        "model.add(Dense(8,activation='relu',kernel_regularizer=regularizers.l1_l2(l1=1e-4, l2=1e-4),\n",
        "    bias_regularizer=regularizers.l2(1e-4),\n",
        "    activity_regularizer=regularizers.l2(1e-4)))\n",
        "model.add(Dropout(0.5))\n",
        "model.add(Dense(1,activation='sigmoid'))\n",
        "\n",
        "model.compile(loss = 'binary_crossentropy', optimizer='adam',metrics = [tf.keras.metrics.BinaryAccuracy()\n",
        "])\n",
        "print(model.summary())"
      ],
      "execution_count": 130,
      "outputs": [
        {
          "output_type": "stream",
          "text": [
            "Model: \"sequential_19\"\n",
            "_________________________________________________________________\n",
            "Layer (type)                 Output Shape              Param #   \n",
            "=================================================================\n",
            "embedding_19 (Embedding)     (None, None, 8)           266168    \n",
            "_________________________________________________________________\n",
            "bidirectional_19 (Bidirectio (None, 16)                1088      \n",
            "_________________________________________________________________\n",
            "dropout_40 (Dropout)         (None, 16)                0         \n",
            "_________________________________________________________________\n",
            "dense_56 (Dense)             (None, 8)                 136       \n",
            "_________________________________________________________________\n",
            "dropout_41 (Dropout)         (None, 8)                 0         \n",
            "_________________________________________________________________\n",
            "dense_57 (Dense)             (None, 1)                 9         \n",
            "=================================================================\n",
            "Total params: 267,401\n",
            "Trainable params: 267,401\n",
            "Non-trainable params: 0\n",
            "_________________________________________________________________\n",
            "None\n"
          ],
          "name": "stdout"
        }
      ]
    },
    {
      "cell_type": "code",
      "metadata": {
        "id": "BDTpw-5fXHud"
      },
      "source": [
        "model.fit(train_x,train_y, epochs = 10, batch_size=10, validation_split=0.3)"
      ],
      "execution_count": null,
      "outputs": []
    },
    {
      "cell_type": "code",
      "metadata": {
        "id": "6YM2FqeXjfTt"
      },
      "source": [
        "y_pred = model.predict(test_x)"
      ],
      "execution_count": 106,
      "outputs": []
    },
    {
      "cell_type": "code",
      "metadata": {
        "id": "q3fod6qejwCt"
      },
      "source": [
        "for i in range(len(y_pred)):\n",
        "  y_pred[i] = 1 if y_pred[i]>0.5 else 0"
      ],
      "execution_count": 107,
      "outputs": []
    },
    {
      "cell_type": "code",
      "metadata": {
        "id": "sArjQBeG5kE6"
      },
      "source": [
        "y_pred  = np.array(y_pred)"
      ],
      "execution_count": 108,
      "outputs": []
    },
    {
      "cell_type": "code",
      "metadata": {
        "colab": {
          "base_uri": "https://localhost:8080/",
          "height": 295
        },
        "id": "gFCC58P-77eg",
        "outputId": "e32a347b-c7fe-4e53-96d4-d6c95c7717f3"
      },
      "source": [
        "from sklearn.metrics import confusion_matrix\n",
        "import pylab as pl\n",
        "cm = confusion_matrix(test_y, y_pred)\n",
        "\n",
        "import seaborn as sns\n",
        "import matplotlib.pyplot as plt     \n",
        "\n",
        "ax= plt.subplot()\n",
        "sns.heatmap(cm, annot=True, fmt='g', ax=ax);  #annot=True to annotate cells, ftm='g' to disable scientific notation\n",
        "\n",
        "# labels, title and ticks\n",
        "ax.set_xlabel('Predicted labels');ax.set_ylabel('True labels'); \n",
        "ax.set_title('Confusion Matrix'); \n",
        "#ax.xaxis.set_ticklabels(['True', 'Predicted']); ax.yaxis.set_ticklabels(['True', 'Predicted']);"
      ],
      "execution_count": 109,
      "outputs": [
        {
          "output_type": "display_data",
          "data": {
            "image/png": "[encoded data removed]",
            "text/plain": [
              "<Figure size 432x288 with 2 Axes>"
            ]
          },
          "metadata": {
            "tags": [],
            "needs_background": "light"
          }
        }
      ]
    },
    {
      "cell_type": "markdown",
      "metadata": {
        "id": "EIUaPX1sS-9e"
      },
      "source": [
        "# Logistic Regression"
      ]
    },
    {
      "cell_type": "code",
      "metadata": {
        "id": "JvHfH_PsTDcR"
      },
      "source": [
        "train_lr = train['Label']\n",
        "test_lr = test['Label']"
      ],
      "execution_count": 132,
      "outputs": []
    },
    {
      "cell_type": "code",
      "metadata": {
        "colab": {
          "base_uri": "https://localhost:8080/"
        },
        "id": "ALuThyLjTJ7g",
        "outputId": "c34a7be4-1c92-4507-8bf3-3465b6d6d7fb"
      },
      "source": [
        "train_lr"
      ],
      "execution_count": 133,
      "outputs": [
        {
          "output_type": "execute_result",
          "data": {
            "text/plain": [
              "0       0\n",
              "1       1\n",
              "2       0\n",
              "3       0\n",
              "4       1\n",
              "       ..\n",
              "1858    0\n",
              "1859    0\n",
              "1860    1\n",
              "1861    0\n",
              "1862    0\n",
              "Name: Label, Length: 1863, dtype: int64"
            ]
          },
          "metadata": {
            "tags": []
          },
          "execution_count": 133
        }
      ]
    },
    {
      "cell_type": "code",
      "metadata": {
        "colab": {
          "base_uri": "https://localhost:8080/"
        },
        "id": "yEf65ErJUAjy",
        "outputId": "987e3616-abac-4b48-b985-a9dba2a40d88"
      },
      "source": [
        "from textblob import TextBlob\n",
        "a = TextBlob ('Remember that adorable 9-year-old who sang at the opening ceremonies? That was fake, too.')\n",
        "a.sentiment"
      ],
      "execution_count": 134,
      "outputs": [
        {
          "output_type": "execute_result",
          "data": {
            "text/plain": [
              "Sentiment(polarity=0.0, subjectivity=1.0)"
            ]
          },
          "metadata": {
            "tags": []
          },
          "execution_count": 134
        }
      ]
    },
    {
      "cell_type": "code",
      "metadata": {
        "id": "tTC6ndG6cu6I"
      },
      "source": [
        "for i in range(2, 27):\n",
        "  df.iloc[:,i] = df.iloc[:,i].str.replace('b', '', 1)"
      ],
      "execution_count": null,
      "outputs": []
    },
    {
      "cell_type": "code",
      "metadata": {
        "colab": {
          "base_uri": "https://localhost:8080/",
          "height": 35
        },
        "id": "XWyFewRbnWE1",
        "outputId": "6df41209-7f37-4f35-f188-45cd9f76202e"
      },
      "source": [
        "str(df.iloc[1,3])"
      ],
      "execution_count": null,
      "outputs": [
        {
          "output_type": "execute_result",
          "data": {
            "application/vnd.google.colaboratory.intrinsic+json": {
              "type": "string"
            },
            "text/plain": [
              "\"'Bush puts foot down on Georgian conflict'\""
            ]
          },
          "metadata": {
            "tags": []
          },
          "execution_count": 15
        }
      ]
    },
    {
      "cell_type": "code",
      "metadata": {
        "id": "xaE2x67siI5z"
      },
      "source": [
        "polarity = []\n",
        "subjectivity = []\n",
        "for i in range(df.shape[0]):\n",
        "  pol_temp = []\n",
        "  sub_temp = []\n",
        "  for j in range(2,27):\n",
        "    pol_temp.append(TextBlob(str(df.iloc[i,j])).sentiment.polarity)\n",
        "    sub_temp.append(TextBlob(str(df.iloc[i,j])).sentiment.subjectivity)\n",
        "  polarity.append(pol_temp)\n",
        "  subjectivity.append(sub_temp)"
      ],
      "execution_count": null,
      "outputs": []
    },
    {
      "cell_type": "code",
      "metadata": {
        "id": "GTr2pCY5mEhP"
      },
      "source": [
        "np_polarity = np.array(polarity)\n",
        "np_subjectivity = np.array(subjectivity)"
      ],
      "execution_count": null,
      "outputs": []
    },
    {
      "cell_type": "code",
      "metadata": {
        "colab": {
          "base_uri": "https://localhost:8080/"
        },
        "id": "qzI87N1KoBuo",
        "outputId": "c0ee2c3c-8cc8-42e8-f796-7addba6e729e"
      },
      "source": [
        "np_polarity.shape"
      ],
      "execution_count": null,
      "outputs": [
        {
          "output_type": "execute_result",
          "data": {
            "text/plain": [
              "(1989, 25)"
            ]
          },
          "metadata": {
            "tags": []
          },
          "execution_count": 18
        }
      ]
    },
    {
      "cell_type": "code",
      "metadata": {
        "id": "ErVm2TwQoSim"
      },
      "source": [
        "polarity_mean = []\n",
        "subjectivity_mean = []\n",
        "for i in range(np_polarity.shape[0]):\n",
        "  polarity_mean.append(np.mean(np_polarity[i]))\n",
        "  subjectivity_mean.append(np.mean(np_subjectivity[i]))"
      ],
      "execution_count": null,
      "outputs": []
    },
    {
      "cell_type": "code",
      "metadata": {
        "id": "ttNc71kOotH0"
      },
      "source": [
        "np_polarity_mean = np.array(polarity_mean)\n",
        "np_subjectivity_mean = np.array(subjectivity_mean)"
      ],
      "execution_count": null,
      "outputs": []
    },
    {
      "cell_type": "code",
      "metadata": {
        "colab": {
          "base_uri": "https://localhost:8080/"
        },
        "id": "fnlB7I5mo0BU",
        "outputId": "d4544e1b-866a-48d1-92cf-ab5925b97e2c"
      },
      "source": [
        "# This is the training data\n",
        "np_polarity_mean\n",
        "np_subjectivity_mean"
      ],
      "execution_count": null,
      "outputs": [
        {
          "output_type": "execute_result",
          "data": {
            "text/plain": [
              "array([0.17161087, 0.18416364, 0.36391198, ..., 0.22020469, 0.19242063,\n",
              "       0.19666667])"
            ]
          },
          "metadata": {
            "tags": []
          },
          "execution_count": 21
        }
      ]
    },
    {
      "cell_type": "code",
      "metadata": {
        "id": "6PCCX7_Mo1pb"
      },
      "source": [
        "labels = df['Label']"
      ],
      "execution_count": null,
      "outputs": []
    },
    {
      "cell_type": "code",
      "metadata": {
        "id": "I19JYNZlqjTe"
      },
      "source": [
        "labels = np.array(labels)"
      ],
      "execution_count": null,
      "outputs": []
    },
    {
      "cell_type": "code",
      "metadata": {
        "colab": {
          "base_uri": "https://localhost:8080/"
        },
        "id": "DXoAasN-qr0H",
        "outputId": "406f3eb3-c08e-409e-8039-f5131192eac4"
      },
      "source": [
        "labels.shape"
      ],
      "execution_count": null,
      "outputs": [
        {
          "output_type": "execute_result",
          "data": {
            "text/plain": [
              "(1989,)"
            ]
          },
          "metadata": {
            "tags": []
          },
          "execution_count": 24
        }
      ]
    },
    {
      "cell_type": "code",
      "metadata": {
        "id": "XKsvFTgoq1o9"
      },
      "source": [
        "# train-test split\n",
        "train_pol = np_polarity_mean[:int(0.8*np_polarity_mean.shape[0])]\n",
        "test_pol = np_polarity_mean[int(0.8*np_polarity_mean.shape[0]):]\n",
        "train_sub = np_subjectivity_mean[:int(0.8*np_subjectivity_mean.shape[0])]\n",
        "test_sub = np_subjectivity_mean[int(0.8*np_subjectivity_mean.shape[0]):]\n",
        "train_labels = labels[:int(0.8*labels.shape[0])]\n",
        "test_labels = labels[int(0.8*labels.shape[0]):]"
      ],
      "execution_count": null,
      "outputs": []
    },
    {
      "cell_type": "code",
      "metadata": {
        "colab": {
          "base_uri": "https://localhost:8080/"
        },
        "id": "8HMHrFUBrYr8",
        "outputId": "6dbb1392-9976-41d8-c8d6-73fea93cfc3d"
      },
      "source": [
        "test_labels.shape"
      ],
      "execution_count": null,
      "outputs": [
        {
          "output_type": "execute_result",
          "data": {
            "text/plain": [
              "(398,)"
            ]
          },
          "metadata": {
            "tags": []
          },
          "execution_count": 26
        }
      ]
    },
    {
      "cell_type": "code",
      "metadata": {
        "id": "3ObHpyKsuuCM"
      },
      "source": [
        "feature_matrix_train = np.array([train_pol, train_sub])\n",
        "feature_matrix_test = np.array([test_pol, test_sub])"
      ],
      "execution_count": null,
      "outputs": []
    },
    {
      "cell_type": "code",
      "metadata": {
        "id": "wu-J4DfXu3gm"
      },
      "source": [
        "feature_matrix_train = np.transpose(feature_matrix_train)\n",
        "feature_matrix_test = np.transpose(feature_matrix_test)"
      ],
      "execution_count": null,
      "outputs": []
    },
    {
      "cell_type": "code",
      "metadata": {
        "id": "dReRpDzyu5A6"
      },
      "source": [
        "from sklearn.linear_model import LogisticRegression\n",
        "clf = LogisticRegression(random_state=0).fit(feature_matrix_train, train_labels)"
      ],
      "execution_count": null,
      "outputs": []
    },
    {
      "cell_type": "code",
      "metadata": {
        "colab": {
          "base_uri": "https://localhost:8080/"
        },
        "id": "s5mitdxZvMvj",
        "outputId": "679e1e57-b450-45cc-c192-e8d44e22015a"
      },
      "source": [
        "list(clf.predict(feature_matrix_train)).count(1)"
      ],
      "execution_count": null,
      "outputs": [
        {
          "output_type": "execute_result",
          "data": {
            "text/plain": [
              "1591"
            ]
          },
          "metadata": {
            "tags": []
          },
          "execution_count": 30
        }
      ]
    },
    {
      "cell_type": "code",
      "metadata": {
        "id": "X0RhfPt5LKI-"
      },
      "source": [
        "y_pred = clf.predict(feature_matrix_test)"
      ],
      "execution_count": null,
      "outputs": []
    },
    {
      "cell_type": "code",
      "metadata": {
        "colab": {
          "base_uri": "https://localhost:8080/"
        },
        "id": "UZRpDEpGvs5c",
        "outputId": "ae15de72-a958-4508-aa79-3be4e606f483"
      },
      "source": [
        "clf.score(feature_matrix_test, test_labels)"
      ],
      "execution_count": null,
      "outputs": [
        {
          "output_type": "execute_result",
          "data": {
            "text/plain": [
              "0.507537688442211"
            ]
          },
          "metadata": {
            "tags": []
          },
          "execution_count": 31
        }
      ]
    },
    {
      "cell_type": "code",
      "metadata": {
        "id": "qsN8Xt0Gv1Z2"
      },
      "source": [
        "from sklearn.metrics import confusion_matrix"
      ],
      "execution_count": null,
      "outputs": []
    },
    {
      "cell_type": "code",
      "metadata": {
        "colab": {
          "base_uri": "https://localhost:8080/"
        },
        "id": "RoXsBQicJqMY",
        "outputId": "0598a4e8-d2c9-44db-cc0d-f15d4242b5f0"
      },
      "source": [
        "confusion_matrix(test_labels, y_pred)"
      ],
      "execution_count": null,
      "outputs": [
        {
          "output_type": "execute_result",
          "data": {
            "text/plain": [
              "array([[  0, 196],\n",
              "       [  0, 202]])"
            ]
          },
          "metadata": {
            "tags": []
          },
          "execution_count": 34
        }
      ]
    }
  ]
}